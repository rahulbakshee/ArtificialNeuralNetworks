{
 "cells": [
  {
   "cell_type": "code",
   "execution_count": 1,
   "metadata": {
    "collapsed": true
   },
   "outputs": [],
   "source": [
    "import numpy as np"
   ]
  },
  {
   "cell_type": "code",
   "execution_count": 2,
   "metadata": {
    "collapsed": true
   },
   "outputs": [],
   "source": [
    "#sigmoid\n",
    "def nonlin(x, deriv=False):\n",
    "    if deriv == True:\n",
    "        return x*(1-x)\n",
    "    return 1/(1+np.exp(-x))\n"
   ]
  },
  {
   "cell_type": "code",
   "execution_count": 3,
   "metadata": {
    "collapsed": true
   },
   "outputs": [],
   "source": [
    "#input\n",
    "x = np.array([[0,0,1],\n",
    "             [0,1,1],\n",
    "             [1,0,1],\n",
    "             [1,1,1]])\n",
    "#output\n",
    "y = np.array([[0],[1],[1],[0]])\n"
   ]
  },
  {
   "cell_type": "code",
   "execution_count": 4,
   "metadata": {
    "collapsed": true
   },
   "outputs": [],
   "source": [
    "np.random.seed(21)"
   ]
  },
  {
   "cell_type": "code",
   "execution_count": 5,
   "metadata": {
    "collapsed": true
   },
   "outputs": [],
   "source": [
    "#synapse weights\n",
    "syn0 = 2*np.random.random((3,4)) - 1\n",
    "syn1 = 2*np.random.random((4,1)) - 1"
   ]
  },
  {
   "cell_type": "code",
   "execution_count": 6,
   "metadata": {
    "collapsed": false
   },
   "outputs": [
    {
     "name": "stdout",
     "output_type": "stream",
     "text": [
      "error 0.497698995171\n",
      "error 0.010545726351\n",
      "error 0.00713504780664\n",
      "error 0.00571227911033\n",
      "error 0.00488806492458\n"
     ]
    }
   ],
   "source": [
    "#training time\n",
    "for i in range(50000):\n",
    "    \n",
    "    #layers\n",
    "    l0 = x\n",
    "    l1 = nonlin(np.dot(l0, syn0))\n",
    "    l2 = nonlin(np.dot(l1, syn1))\n",
    "    \n",
    "    #backpropogation- error calculation\n",
    "    #l2_error\n",
    "    l2_error = y - l2\n",
    "    if i%10000 == 0:\n",
    "        print(\"error\", np.mean(np.abs(l2_error)))\n",
    "    \n",
    "    #l2_delta\n",
    "    l2_delta = l2_error*nonlin(l2, deriv = True)\n",
    "    \n",
    "    #how much did the layer1 values contribute to the l2 error\n",
    "    #l1_error\n",
    "    l1_error = l2_delta.dot(syn1.T)\n",
    "    \n",
    "    #l1_delta\n",
    "    l1_delta = l1_error*nonlin(l1, deriv = True)\n",
    "    \n",
    "    #time to update the weights\n",
    "    syn1 = syn1 + l1.T.dot(l2_delta)\n",
    "    syn0 = syn0 + l0.T.dot(l1_delta)\n",
    "    "
   ]
  },
  {
   "cell_type": "code",
   "execution_count": 7,
   "metadata": {
    "collapsed": false
   },
   "outputs": [
    {
     "name": "stdout",
     "output_type": "stream",
     "text": [
      "[[ 0.003441  ]\n",
      " [ 0.99716892]\n",
      " [ 0.99475423]\n",
      " [ 0.00582471]]\n"
     ]
    }
   ],
   "source": [
    "print(l2)"
   ]
  },
  {
   "cell_type": "code",
   "execution_count": 8,
   "metadata": {
    "collapsed": true
   },
   "outputs": [],
   "source": [
    "#this shows similar output to y"
   ]
  }
 ],
 "metadata": {
  "anaconda-cloud": {},
  "kernelspec": {
   "display_name": "Python [default]",
   "language": "python",
   "name": "python3"
  },
  "language_info": {
   "codemirror_mode": {
    "name": "ipython",
    "version": 3
   },
   "file_extension": ".py",
   "mimetype": "text/x-python",
   "name": "python",
   "nbconvert_exporter": "python",
   "pygments_lexer": "ipython3",
   "version": "3.5.2"
  }
 },
 "nbformat": 4,
 "nbformat_minor": 1
}
