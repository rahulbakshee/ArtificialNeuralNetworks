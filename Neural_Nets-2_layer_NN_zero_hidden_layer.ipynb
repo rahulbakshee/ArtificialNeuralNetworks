{
 "cells": [
  {
   "cell_type": "code",
   "execution_count": 1,
   "metadata": {
    "collapsed": false
   },
   "outputs": [],
   "source": [
    "# based on the article posted on http://iamtrask.github.io/2015/07/12/basic-python-network/"
   ]
  },
  {
   "cell_type": "code",
   "execution_count": 2,
   "metadata": {
    "collapsed": true
   },
   "outputs": [],
   "source": [
    "import numpy as np\n",
    "np.random.seed(21)"
   ]
  },
  {
   "cell_type": "code",
   "execution_count": 3,
   "metadata": {
    "collapsed": false
   },
   "outputs": [],
   "source": [
    "#sigmoid function\n",
    "def sigmoid(x, deriv = False):\n",
    "    '''defining a function for non-linearity\n",
    "    A sigmoid function maps any value to a value between 0 and 1\n",
    "    it is used to convert numbers into probablities.\n",
    "    there are many such functions example 'tanh\n",
    "\n",
    "    args: deriv\n",
    "    a derivative is the slope of sigmoid function at any given time\n",
    "    '''\n",
    "    \n",
    "    if(deriv == True):\n",
    "        return x*(1-x)\n",
    "    return 1/(1+np.exp(-x))\n",
    "    \n"
   ]
  },
  {
   "cell_type": "code",
   "execution_count": 4,
   "metadata": {
    "collapsed": false
   },
   "outputs": [
    {
     "name": "stdout",
     "output_type": "stream",
     "text": [
      "[[0 0 1]\n",
      " [0 1 1]\n",
      " [1 0 1]\n",
      " [1 1 1]]\n",
      "shape of x (4, 3)\n",
      "we have 3 input nodes and four training examples\n"
     ]
    }
   ],
   "source": [
    "# input layer-->numpy matrix\n",
    "x = np.array([[0,0,1],[0,1,1],[1,0,1],[1,1,1]])\n",
    "print(x)\n",
    "print(\"shape of x\", x.shape)\n",
    "print(\"we have 3 input nodes and four training examples\")"
   ]
  },
  {
   "cell_type": "code",
   "execution_count": 5,
   "metadata": {
    "collapsed": false
   },
   "outputs": [
    {
     "name": "stdout",
     "output_type": "stream",
     "text": [
      "[[0]\n",
      " [0]\n",
      " [1]\n",
      " [1]]\n",
      "shape of y (4, 1)\n"
     ]
    }
   ],
   "source": [
    "# output layer-->numpy matrix\n",
    "y = np.array([[0,0,1,1]]).T\n",
    "print(y)\n",
    "print(\"shape of y\", y.shape)\n"
   ]
  },
  {
   "cell_type": "code",
   "execution_count": 6,
   "metadata": {
    "collapsed": true
   },
   "outputs": [],
   "source": [
    "# random initialisation of synaptic weights\n",
    "# size of synaptic weight is (3,1) because we have 3 input nodes and one output node\n",
    "# also it is initialised with mean of zero\n",
    "# input dimension x synaptic weight = output dimension\n",
    "#        4*3      x       3*1       =       4*1\n",
    "\n",
    "\n",
    "synaptic_weights = 2*np.random.random((3,1)) - 1 "
   ]
  },
  {
   "cell_type": "code",
   "execution_count": 7,
   "metadata": {
    "collapsed": false
   },
   "outputs": [
    {
     "name": "stdout",
     "output_type": "stream",
     "text": [
      "final output\n",
      "[[ 0.00301783]\n",
      " [ 0.00246106]\n",
      " [ 0.99799167]\n",
      " [ 0.99753707]]\n"
     ]
    }
   ],
   "source": [
    "# looping with full batch training\n",
    "# all the input trained in a single batch\n",
    "\n",
    "for i in range(100000):\n",
    "    # we have 2 layers only- input and output\n",
    "    \n",
    "    # step 1 - forward propogation\n",
    "    layer0 = x\n",
    "    layer1 = sigmoid(np.dot(layer0, synaptic_weights))\n",
    "    \n",
    "    # calculating the error\n",
    "    layer1_error = y - layer1\n",
    "    \n",
    "    # step 2 - multiply how much we missed with the slope of the sigmoid at the values in layer1\n",
    "    layer1_delta = layer1_error * sigmoid(layer1, True)\n",
    "    \n",
    "    # updating the weights\n",
    "    synaptic_weights += np.dot(layer0.T, layer1_delta)\n",
    "    \n",
    "print(\"final output\")\n",
    "print(layer1)"
   ]
  }
 ],
 "metadata": {
  "anaconda-cloud": {},
  "kernelspec": {
   "display_name": "Python [default]",
   "language": "python",
   "name": "python3"
  },
  "language_info": {
   "codemirror_mode": {
    "name": "ipython",
    "version": 3
   },
   "file_extension": ".py",
   "mimetype": "text/x-python",
   "name": "python",
   "nbconvert_exporter": "python",
   "pygments_lexer": "ipython3",
   "version": "3.5.2"
  }
 },
 "nbformat": 4,
 "nbformat_minor": 1
}
