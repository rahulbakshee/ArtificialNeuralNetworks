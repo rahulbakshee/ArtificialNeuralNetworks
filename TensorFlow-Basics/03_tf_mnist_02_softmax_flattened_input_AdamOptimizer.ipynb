{
 "cells": [
  {
   "cell_type": "code",
   "execution_count": 1,
   "metadata": {},
   "outputs": [
    {
     "name": "stdout",
     "output_type": "stream",
     "text": [
      "Extracting data/MNIST\\train-images-idx3-ubyte.gz\n",
      "Extracting data/MNIST\\train-labels-idx1-ubyte.gz\n",
      "Extracting data/MNIST\\t10k-images-idx3-ubyte.gz\n",
      "Extracting data/MNIST\\t10k-labels-idx1-ubyte.gz\n"
     ]
    }
   ],
   "source": [
    "import tensorflow as tf\n",
    "from tensorflow.examples.tutorials.mnist import input_data\n",
    "\n",
    "mnist = input_data.read_data_sets(\"data/MNIST\", one_hot=True)"
   ]
  },
  {
   "cell_type": "code",
   "execution_count": 2,
   "metadata": {},
   "outputs": [
    {
     "name": "stdout",
     "output_type": "stream",
     "text": [
      " accuracy   0.9254\n"
     ]
    }
   ],
   "source": [
    "# let us parameterize our code\n",
    "num_classes = 10\n",
    "img_size = 28 \n",
    "img_size_flat = img_size * img_size # 784\n",
    "batch_size = 100\n",
    "learning_rate = 0.01\n",
    "training_epochs = 5000\n",
    "\n",
    "# input data x\n",
    "x_data = tf.placeholder(tf.float32, [None, img_size_flat], name=\"x_data\") # shape = (batch_size, 784)\n",
    "\n",
    "# input data labels \n",
    "x_labels = tf.placeholder(tf.float32, [None, num_classes], name=\"x_labels\") # shape = (batch_size, 10)\n",
    "\n",
    "# random weights and biases \n",
    "# we will make them Variable because we have to initialize with random values and then later train them\n",
    "weights = tf.Variable(tf.ones([img_size_flat,num_classes]), name=\"weights\") # shape = (784, 10)\n",
    "biases = tf.Variable(tf.zeros([num_classes]), name=\"biases\") # shape = (10)\n",
    "\n",
    "# model\n",
    "logits = tf.matmul(x_data, weights) + biases      # predicted labels  # shape = (batch_size, 10)\n",
    "\n",
    "# introduce non-linearity\n",
    "cross_entropy = tf.nn.softmax_cross_entropy_with_logits(logits=logits, labels=x_labels, name=\"cross_entropy\")\n",
    "\n",
    "# sum of all the cross_entropy is the cost of our model\n",
    "cost = tf.reduce_mean(cross_entropy, name=\"cost\")\n",
    "\n",
    "optimizer = tf.train.AdamOptimizer(learning_rate=0.001, beta1=0.9, beta2=0.999, epsilon=1e-08, use_locking=False, name='Adam').minimize(cost)\n",
    "\n",
    "\n",
    "### Now that the computation graph is ready, we need to run it using tf.Session()\n",
    "\n",
    "# initialize the variables\n",
    "init = tf.global_variables_initializer()\n",
    "\n",
    "sess = tf.Session()\n",
    "\n",
    "sess.run(init)\n",
    "\n",
    "for _ in range(training_epochs):\n",
    "    batch_x , batch_y = mnist.train.next_batch(batch_size)\n",
    "    sess.run(fetches=optimizer, feed_dict={x_data:batch_x, x_labels:batch_y})\n",
    "    \n",
    "\n",
    "how_many_correct_pred = tf.equal(tf.argmax(x_labels, axis=1), tf.argmax(logits, 1), name=\"howManyCorrect\")\n",
    "\n",
    "accuracy = tf.reduce_mean(tf.cast(how_many_correct_pred, tf.float32))\n",
    "\n",
    "\n",
    "# print the final accuracy on test data\n",
    "print(\" accuracy  \", sess.run(fetches=accuracy, feed_dict={x_data:mnist.test.images, x_labels:mnist.test.labels}))\n"
   ]
  }
 ],
 "metadata": {
  "kernelspec": {
   "display_name": "Python 3",
   "language": "python",
   "name": "python3"
  },
  "language_info": {
   "codemirror_mode": {
    "name": "ipython",
    "version": 3
   },
   "file_extension": ".py",
   "mimetype": "text/x-python",
   "name": "python",
   "nbconvert_exporter": "python",
   "pygments_lexer": "ipython3",
   "version": "3.5.3"
  }
 },
 "nbformat": 4,
 "nbformat_minor": 2
}
