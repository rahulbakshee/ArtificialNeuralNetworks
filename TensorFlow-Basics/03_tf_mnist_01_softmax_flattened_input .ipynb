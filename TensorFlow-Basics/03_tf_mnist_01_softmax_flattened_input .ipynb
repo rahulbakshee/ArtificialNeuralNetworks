{
 "cells": [
  {
   "cell_type": "markdown",
   "metadata": {},
   "source": [
    "inspired from https://www.tensorflow.org/get_started/mnist/beginners"
   ]
  },
  {
   "cell_type": "code",
   "execution_count": 1,
   "metadata": {},
   "outputs": [
    {
     "name": "stdout",
     "output_type": "stream",
     "text": [
      "Extracting MNIST_data\\train-images-idx3-ubyte.gz\n",
      "Extracting MNIST_data\\train-labels-idx1-ubyte.gz\n",
      "Extracting MNIST_data\\t10k-images-idx3-ubyte.gz\n",
      "Extracting MNIST_data\\t10k-labels-idx1-ubyte.gz\n"
     ]
    }
   ],
   "source": [
    "# import\n",
    "import tensorflow as tf\n",
    "\n",
    "# import mnist data\n",
    "# data hosted at http://yann.lecun.com/exdb/mnist/\n",
    "from tensorflow.examples.tutorials.mnist import input_data\n",
    "mnist = input_data.read_data_sets(\"MNIST_data\", one_hot=True)"
   ]
  },
  {
   "cell_type": "markdown",
   "metadata": {},
   "source": [
    "* one-hot vector is a vector which is 0 in most dimensions, and 1 in a single dimension. In this case, the nth digit will be represented as a vector which is 1 in the nth dimension. For example, 3 would be [0,0,0,1,0,0,0,0,0,0]."
   ]
  },
  {
   "cell_type": "code",
   "execution_count": 2,
   "metadata": {},
   "outputs": [
    {
     "name": "stdout",
     "output_type": "stream",
     "text": [
      "lets explore the mnist data that we imported\n",
      "======================================\n",
      "train data\n",
      "======================================\n",
      "images shape (55000, 784)\n",
      "labels shape (55000, 10)\n",
      "train number of examples 55000\n",
      "train epoch completed 0\n",
      "======================================\n",
      "same goes for test data\n",
      "======================================\n",
      "images shape (10000, 784)\n",
      "labels shape (10000, 10)\n",
      "test number of examples 10000\n",
      "test epoch completed 0\n",
      "======================================\n",
      "same goes for validation data\n",
      "======================================\n",
      "images shape (5000, 784)\n",
      "labels shape (5000, 10)\n",
      "validation number of examples 5000\n",
      "validation epoch completed 0\n"
     ]
    }
   ],
   "source": [
    "print(\"lets explore the mnist data that we imported\")\n",
    "print(\"======================================\")\n",
    "print(\"train data\")\n",
    "print(\"======================================\")\n",
    "print(\"images shape\", mnist.train.images.shape)\n",
    "print(\"labels shape\", mnist.train.labels.shape)\n",
    "print(\"train number of examples\", mnist.train.num_examples)\n",
    "print(\"train epoch completed\", mnist.train.epochs_completed) #need to understand this\n",
    "print(\"======================================\")\n",
    "print(\"same goes for test data\")\n",
    "print(\"======================================\")\n",
    "print(\"images shape\", mnist.test.images.shape)\n",
    "print(\"labels shape\", mnist.test.labels.shape)\n",
    "print(\"test number of examples\", mnist.test.num_examples)\n",
    "print(\"test epoch completed\", mnist.test.epochs_completed) #need to understand this\n",
    "print(\"======================================\")\n",
    "print(\"same goes for validation data\")\n",
    "print(\"======================================\")\n",
    "print(\"images shape\", mnist.validation.images.shape)\n",
    "print(\"labels shape\", mnist.validation.labels.shape)\n",
    "print(\"validation number of examples\", mnist.validation.num_examples)\n",
    "print(\"validation epoch completed\", mnist.validation.epochs_completed) #need to understand this"
   ]
  },
  {
   "cell_type": "markdown",
   "metadata": {},
   "source": [
    "* We can see the data is split into three parts: 55,000 data points of training data (mnist.train), \n",
    "10,000 points of test data (mnist.test), and 5,000 points of validation data (mnist.validation). \n",
    "every MNIST data point has two parts: an image of a handwritten digit and a corresponding label. \n",
    "We'll call the images 'x' and the labels 'y'\n",
    "* mnist.train.images is a tensor (an n-dimensional array) with a shape of [55000, 784]. The first dimension is an index into the list of images and the second dimension is the index for each pixel in each image. Each entry in the tensor is a pixel intensity between 0 and 1, for a particular pixel in a particular image.\n",
    "* Each image in MNIST has a corresponding label, a number between 0 and 9 representing the digit drawn in the image."
   ]
  },
  {
   "cell_type": "markdown",
   "metadata": {},
   "source": [
    "### Softmax Regression (probablity distribution over classes)"
   ]
  },
  {
   "cell_type": "markdown",
   "metadata": {},
   "source": [
    "every image in MNIST is of a handwritten digit between zero and nine. So there are only ten possible things that a given image can be. We want to be able to look at an image and give the probabilities for it being each digit. For example, our model might look at a picture of a nine and be 80% sure it's a nine, but give a 5% chance to it being an eight (because of the top loop) and a bit of probability to all the others because it isn't 100% sure.\n",
    "\n",
    "This is a classic case where a softmax regression is a natural, simple model. If you want to assign probabilities to an object being one of several different things, softmax is the thing to do, because softmax gives us a list of values between 0 and 1 that add up to 1.\n",
    "\n",
    "A softmax regression has two steps: first we add up the evidence of our input being in certain classes, and then we convert that evidence into probabilities.\n",
    "\n",
    "To tally up the evidence that a given image is in a particular class, we do a weighted sum of the pixel intensities. The weight is negative if that pixel having a high intensity is evidence against the image being in that class, and positive if it is evidence in favor.\n",
    "\n",
    "We also add some extra evidence called a bias. Basically, we want to be able to say that some things are more likely independent of the input. \n",
    "\n"
   ]
  },
  {
   "cell_type": "code",
   "execution_count": 3,
   "metadata": {},
   "outputs": [],
   "source": [
    "# x isn't a specific value. It's a placeholder, a value that we'll input when we ask TensorFlow to run a computation. \n",
    "# We want to be able to input any number of MNIST images, each flattened into a 784-dimensional vector. \n",
    "# We represent this as a 2-D tensor of floating-point numbers, with a shape [None, 784]. \n",
    "x = tf.placeholder(tf.float32, [None, 784], name=\"x\") # None means that a dimension can be of any length.\n",
    "\n",
    "# weights and biases will be trainable. Therefore they will be Variable\n",
    "W = tf.Variable(tf.zeros([784,10]), name=\"w\")\n",
    "b = tf.Variable(tf.zeros([10]), name=\"b\")\n",
    "\n",
    "# model\n",
    "y = tf.matmul(x,W) + b # predicted (also called logits)\n",
    "\n",
    "# define loss and optimizer\n",
    "y_ = tf.placeholder(tf.float32, [None, 10], name=\"y_\") # true labels (one-hot)\n",
    "\n",
    "cross_entropy = tf.reduce_mean(tf.nn.softmax_cross_entropy_with_logits(labels=y_, logits=y))\n",
    "\n",
    "train_step = tf.train.GradientDescentOptimizer(0.1).minimize(cross_entropy)"
   ]
  },
  {
   "cell_type": "code",
   "execution_count": 4,
   "metadata": {},
   "outputs": [
    {
     "name": "stdout",
     "output_type": "stream",
     "text": [
      "Accuracy  0.9226\n"
     ]
    }
   ],
   "source": [
    "# now that we have decided our path of execution, the only task remaning is to follow(run) it\n",
    "sess = tf.InteractiveSession()\n",
    "tf.global_variables_initializer().run()\n",
    "\n",
    "# train our model\n",
    "for _ in range(10000):\n",
    "    batch_xs, batch_ys = mnist.train.next_batch(100)\n",
    "    sess.run(train_step, feed_dict={x:batch_xs, y_:batch_ys})\n",
    "    \n",
    "# after our model is run, we need to check the accuracy\n",
    "# tf.argmax gives you the index of the highest entry in a tensor along some axis. \n",
    "# For example, tf.argmax(y,1) is the label our model thinks is most likely for each input, \n",
    "# while tf.argmax(y_,1) is the correct label. We can use tf.equal to check if our prediction matches the truth.\n",
    "correct_prediction = tf.equal(tf.arg_max(y,1), tf.arg_max(y_,1))\n",
    "\n",
    "# That gives us a list of booleans. To determine what fraction are correct, we cast to floating point numbers \n",
    "# and then take the mean. For example, [True, False, True, True] would become [1,0,1,1] which would become 0.75.\n",
    "accuracy = tf.reduce_mean(tf.cast(correct_prediction, tf.float32))\n",
    "\n",
    "# printing the accuracy\n",
    "print(\"Accuracy \", sess.run(accuracy, feed_dict={x:mnist.test.images, y_:mnist.test.labels}))\n"
   ]
  },
  {
   "cell_type": "markdown",
   "metadata": {},
   "source": [
    "This accuracy states that flattening of the input images makes us lose some of the information about the 2D structure of the image.\n",
    "Next, we will be using more sofisticated methods."
   ]
  },
  {
   "cell_type": "markdown",
   "metadata": {},
   "source": [
    "### Explaination- why we use \"softmax_cross_entropy_with_logits\" instead of raw calculations of cross_entropy\n",
    "https://stackoverflow.com/questions/37312421/tensorflow-whats-the-difference-between-sparse-softmax-cross-entropy-with-logi/37317322#37317322\n",
    "Having two different functions is a convenience, as they produce the same result.\n",
    "\n",
    "The difference is simple:\n",
    "\n",
    "For sparse_softmax_cross_entropy_with_logits, labels must have the shape [batch_size] and the dtype int32 or int64. Each label is an int in range [0, num_classes-1].\n",
    "For softmax_cross_entropy_with_logits, labels must have the shape [batch_size, num_classes] and dtype float32 or float64.\n",
    "Labels used in softmax_cross_entropy_with_logits are the one hot version of labels used in sparse_softmax_cross_entropy_with_logits.\n",
    "\n",
    "\n",
    "The raw formulation of cross-entropy -->\n",
    "   \n",
    "* tf.reduce_mean(-tf.reduce_sum(y_ * tf.log(tf.nn.softmax(y)),reduction_indices=[1]))\n",
    "   \n",
    "This can be numerically unstable.\n",
    "   \n",
    "So here we use tf.nn.softmax_cross_entropy_with_logits on the raw outputs of 'y', and then average across the batch."
   ]
  }
 ],
 "metadata": {
  "kernelspec": {
   "display_name": "Python 3",
   "language": "python",
   "name": "python3"
  },
  "language_info": {
   "codemirror_mode": {
    "name": "ipython",
    "version": 3
   },
   "file_extension": ".py",
   "mimetype": "text/x-python",
   "name": "python",
   "nbconvert_exporter": "python",
   "pygments_lexer": "ipython3",
   "version": "3.5.3"
  }
 },
 "nbformat": 4,
 "nbformat_minor": 2
}
