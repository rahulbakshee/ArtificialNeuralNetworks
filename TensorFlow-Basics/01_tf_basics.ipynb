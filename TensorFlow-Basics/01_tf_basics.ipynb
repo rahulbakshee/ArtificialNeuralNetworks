{
 "cells": [
  {
   "cell_type": "markdown",
   "metadata": {},
   "source": [
    "# 01 TensorFlow Basics"
   ]
  },
  {
   "cell_type": "code",
   "execution_count": 1,
   "metadata": {
    "collapsed": true
   },
   "outputs": [],
   "source": [
    "# import\n",
    "import tensorflow as tf"
   ]
  },
  {
   "cell_type": "markdown",
   "metadata": {},
   "source": [
    "### Tensors\n",
    "```\n",
    "Tensor is an n-dimensional matrix\n",
    "0-d tensor: scalar (number)\n",
    "1-d tensor: vector\n",
    "2-d tensor: matrix\n",
    "...\n",
    "```"
   ]
  },
  {
   "cell_type": "markdown",
   "metadata": {},
   "source": [
    "### Tensor's Rank\n",
    "```\n",
    "The number of dimensions in a tensor.\n",
    "[]: a rank 0 tensor\n",
    "[1,2,3]: a rank 1 tensor - a vector with shape [3]\n",
    "[[1,2,3], [4,5,6]]: a rank 2 tensor- matrix with shape [2,3]\n",
    "[[[1,2,3]], [[7,8,9]]]: a rank 3 tensor shape [2,1,3]\n",
    "```"
   ]
  },
  {
   "cell_type": "markdown",
   "metadata": {},
   "source": [
    "### Computational Graph\n",
    "``` \n",
    "Series of tensorflow operations arranged into graph of nodes. To actually evaluate the nodes, we must run the computational graph within a session. A session encapsulates the control and state of the TensorFlow runtime.```"
   ]
  },
  {
   "cell_type": "code",
   "execution_count": 2,
   "metadata": {
    "collapsed": false
   },
   "outputs": [
    {
     "name": "stdout",
     "output_type": "stream",
     "text": [
      "b'TensorFlow Playground'\n"
     ]
    }
   ],
   "source": [
    "#add a constant to the graph\n",
    "hello = tf.constant(\"TensorFlow Playground\")\n",
    "\n",
    "#create tf session\n",
    "sess = tf.Session()\n",
    "\n",
    "#run the session\n",
    "print(sess.run(hello))"
   ]
  },
  {
   "cell_type": "code",
   "execution_count": 3,
   "metadata": {
    "collapsed": false
   },
   "outputs": [
    {
     "name": "stdout",
     "output_type": "stream",
     "text": [
      "3.0\n",
      "5 <dtype: 'int32'>\n"
     ]
    }
   ],
   "source": [
    "#tf.constant\n",
    "a = tf.constant(3.0, tf.float32) #to specify a constant right away\n",
    "b = tf.constant(5)\n",
    "\n",
    "sess = tf.Session()\n",
    "\n",
    "print(sess.run(a))\n",
    "print(sess.run(b), b.dtype)"
   ]
  },
  {
   "cell_type": "code",
   "execution_count": 4,
   "metadata": {
    "collapsed": false
   },
   "outputs": [
    {
     "name": "stdout",
     "output_type": "stream",
     "text": [
      "mat1 shape: (1, 2)\n",
      "mat2 shape: (2, 1)\n",
      "[[-3.]]\n",
      "finally shape (1, 1)\n"
     ]
    }
   ],
   "source": [
    "#tf.constant for matrix multiplications\n",
    "mat1 = tf.constant([[6., 0.]])\n",
    "print(\"mat1 shape:\", mat1.shape)\n",
    "\n",
    "mat2 = tf.constant([[-0.5], [9]])\n",
    "print(\"mat2 shape:\", mat2.shape)\n",
    "\n",
    "with tf.Session() as sess:\n",
    "    prod = tf.matmul(mat1, mat2)\n",
    "    print(sess.run(prod))\n",
    "    print(\"finally shape\", prod.shape)"
   ]
  },
  {
   "cell_type": "code",
   "execution_count": 5,
   "metadata": {
    "collapsed": false
   },
   "outputs": [
    {
     "name": "stdout",
     "output_type": "stream",
     "text": [
      "8.0\n",
      "30.0\n"
     ]
    }
   ],
   "source": [
    "#tf.placeholder\n",
    "#to specify a placeholder and value will be provided later\n",
    "c = tf.placeholder(tf.float32) \n",
    "d = tf.placeholder(tf.float32)\n",
    "\n",
    "#operation \n",
    "addition = tf.add(c,d)\n",
    "product = tf.multiply(c,d)\n",
    "\n",
    "sess = tf.Session()\n",
    "\n",
    "print(sess.run(addition, feed_dict={c: 10, d: -2}))\n",
    "print(sess.run(product, {c: 25, d: 1.2}))"
   ]
  },
  {
   "cell_type": "code",
   "execution_count": 6,
   "metadata": {
    "collapsed": false
   },
   "outputs": [
    {
     "name": "stdout",
     "output_type": "stream",
     "text": [
      "[ 0.          0.30000001  0.60000002  0.90000004]\n",
      "23.66\n"
     ]
    }
   ],
   "source": [
    "#tf.Variables allow us to add trainable parameters to a graph. \n",
    "#They are constructed with a type and initial value:\n",
    "w = tf.Variable([.3], tf.float32)\n",
    "b = tf.Variable([-.3], tf.float32)\n",
    "x = tf.placeholder(tf.float32)\n",
    "\n",
    "model = w*x + b\n",
    "\n",
    "#To initialize all the variables in a TensorFlow program, you must explicitly call a special operation as follows:\n",
    "init = tf.global_variables_initializer()\n",
    "sess = tf.Session()\n",
    "sess.run(init)\n",
    "\n",
    "#Since x is a placeholder, we can evaluate linear_model for several values of x simultaneously as follows:\n",
    "print(sess.run(model, {x: [1,2,3,4]}))\n",
    "\n",
    "#We've created a model, but we don't know how good it is yet. \n",
    "#To evaluate the model on training data, we need a y placeholder to provide the desired values, \n",
    "#and we need to write a loss function.\n",
    "y = tf.placeholder(tf.float32)\n",
    "\n",
    "#squaring the error\n",
    "squared_deltas = tf.square(model - y)\n",
    "\n",
    "#sum all the sqaured errors\n",
    "loss = tf.reduce_sum(squared_deltas)\n",
    "\n",
    "print(sess.run(loss, {x:[1,2,3,4], y:[0,-1,-2,-3]}))\n",
    "\n",
    "sess.close()"
   ]
  },
  {
   "cell_type": "code",
   "execution_count": 7,
   "metadata": {
    "collapsed": false
   },
   "outputs": [
    {
     "name": "stdout",
     "output_type": "stream",
     "text": [
      "0.0\n"
     ]
    }
   ],
   "source": [
    "#after getting the optimal parameteres we can assign the final optimal values to our tf.Variable using tf.assign\n",
    "fixw = tf.assign(w, [-1])\n",
    "fixb = tf.assign(b, [1])\n",
    "\n",
    "sess = tf.Session()\n",
    "sess.run([fixw, fixb])\n",
    "\n",
    "print(sess.run(loss,{x:[1,2,3,4], y:[0,-1,-2,-3]}))\n",
    "\n",
    "sess.close()"
   ]
  },
  {
   "cell_type": "markdown",
   "metadata": {},
   "source": [
    "### complete program"
   ]
  },
  {
   "cell_type": "code",
   "execution_count": 8,
   "metadata": {
    "collapsed": false
   },
   "outputs": [
    {
     "name": "stdout",
     "output_type": "stream",
     "text": [
      "w: [-0.99999791] b: [ 0.99999392] loss: 2.52847e-11\n"
     ]
    }
   ],
   "source": [
    "#imports\n",
    "import numpy as np\n",
    "import tensorflow as tf\n",
    "\n",
    "#model parameters\n",
    "w = tf.Variable([.3], tf.float32)\n",
    "b = tf.Variable([.3], tf.float32)\n",
    "\n",
    "#model input and output\n",
    "x = tf.placeholder(tf.float32)\n",
    "model = w * x + b\n",
    "y = tf.placeholder(tf.float32)\n",
    "\n",
    "#loss\n",
    "loss = tf.reduce_sum(tf.square(model-y))\n",
    "\n",
    "#optimiser\n",
    "optimiser = tf.train.GradientDescentOptimizer(0.01)\n",
    "train = optimiser.minimize(loss)\n",
    "\n",
    "#trainings data\n",
    "x_train = [1,2,3,4]\n",
    "y_train = [0,-1,-2,-3]\n",
    "\n",
    "#initialise the variables\n",
    "init = tf.global_variables_initializer()\n",
    "sess = tf.Session()\n",
    "sess.run(init)\n",
    "\n",
    "#training loop\n",
    "for i in range(1000):\n",
    "    sess.run(train, {x:x_train, y:y_train})\n",
    "\n",
    "#accuracy\n",
    "final_w, final_b, final_loss = sess.run([w,b,loss], {x:x_train, y:y_train})\n",
    "print(\"w: %s b: %s loss: %s\" %(final_w, final_b, final_loss))\n",
    "sess.close()"
   ]
  }
 ],
 "metadata": {
  "kernelspec": {
   "display_name": "Python 3",
   "language": "python",
   "name": "python3"
  },
  "language_info": {
   "codemirror_mode": {
    "name": "ipython",
    "version": 3
   },
   "file_extension": ".py",
   "mimetype": "text/x-python",
   "name": "python",
   "nbconvert_exporter": "python",
   "pygments_lexer": "ipython3",
   "version": "3.4.5"
  }
 },
 "nbformat": 4,
 "nbformat_minor": 2
}
