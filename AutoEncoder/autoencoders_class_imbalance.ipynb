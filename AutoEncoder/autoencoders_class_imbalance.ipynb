{
 "cells": [
  {
   "cell_type": "markdown",
   "metadata": {},
   "source": [
    "# `Autoencoders for Class Imbalance`\n",
    "\n",
    "## Problem: Device Failure Prediction \n",
    "Predictive maintenance is used to minimize cost over routine or time-based maintenance. If any device gets failed it is a loss to company because it hinders business. Otherwise regular maintenance activities are also cost to company. Therefore our job is to predict when the device fails(**Preventive maintenance**).\n",
    "We will try to reduce `False Positives` and `False Negatives`\n",
    "## Data:\n",
    "We have been given `device_failure.csv` which depicts the date-time a device has failed with 9 other masked features. The data is highly imbalanced `99.91% False cases and 0.08 % True cases`. There are other imbalanced datasets such as credit card fraud detection from `kaggle` which we will be working in part II\n",
    "## Approach:\n",
    "\n",
    "There are some ususal recommendations for working on Class Imbalance such as:\n",
    " - Data Level \n",
    "  - Oversampling the minority class.\n",
    "  - Undersampling the majority class.\n",
    "  - Combination of OverSampling and UnderSampling.\n",
    "  - Synthesize new minority classes.(SMOTE)\n",
    " - Algorithm Level\n",
    "  - Use class weights (higher weights for minority class)\n",
    "  - Use different classification threshold rather tha default 0.5\n",
    "  - Use complex tree based algorithms  like XGBoost / LightGBM etc.\n",
    "  - Focus on specific metric (Precision/Recall/F1-Score).\n",
    "  - Ensemble of Algorithms.\n",
    "  - Cross Validation strategy with StratifiedKFold.\n",
    "  - Neural Networks and Deep Learning.\n",
    " - Semi-Supervised Learning\n",
    "  - Instead of Classification, reframe problem as Anomaly detection, a.k.a. outlier detection\n",
    "  - `AutoEncoders` to the rescue \n",
    " - Buy or Create more data\n",
    " - etc....\n",
    "\n",
    "\n",
    "In our approach, we will use AutoEncoders, which has two aspects:- \n",
    "\n",
    " -  We will be using the power of autoencoders to understand the hidden representation of the data. This part is also called **unsupervised learning**\n",
    " - Then using the representation we can transform the data and predict(on test set) using simple linear algorithms and the lables given to us in .csv file. This part is called **supervised learning**\n",
    "\n",
    "## Result:\n",
    "Results show that Autoencoders work very well in case of class imbalance. \n",
    "\n",
    "## Resources:\n",
    " - Batch Normalization: Accelerating Deep Network Training by Reducing Internal Covariate Shift. https://arxiv.org/abs/1502.03167\n",
    " - Very well written kernel on AutoEncoders https://www.kaggle.com/shivamb/semi-supervised-classification-using-autoencoders\n",
    " - imbalanced learn https://imbalanced-learn.readthedocs.io/en/stable/\n",
    " - t-SNE https://lvdmaaten.github.io/tsne/\n"
   ]
  },
  {
   "cell_type": "code",
   "execution_count": 1,
   "metadata": {},
   "outputs": [
    {
     "name": "stdout",
     "output_type": "stream",
     "text": [
      "Tensorflow version 2.0.0-alpha0\n"
     ]
    }
   ],
   "source": [
    "# usual imports\n",
    "import pandas as pd\n",
    "import numpy as np\n",
    "import time, gc, os, sys\n",
    "seed = 42\n",
    "np.random.seed(seed)\n",
    "\n",
    "import warnings\n",
    "warnings.filterwarnings(\"ignore\")\n",
    "import matplotlib.pyplot as plt\n",
    "import seaborn as sns\n",
    "%matplotlib inline\n",
    "gc.collect()\n",
    "\n",
    "import tensorflow as tf\n",
    "print(\"Tensorflow version\", tf.__version__)\n",
    "\n",
    "from tensorflow.keras.models import Model, Sequential, load_model\n",
    "from tensorflow.keras.layers import Dense, Activation, Dropout, BatchNormalization, Input\n",
    "from tensorflow.keras.callbacks import EarlyStopping, ModelCheckpoint\n",
    "# checkpoint = ModelCheckpoint(\"autoenco.{epoch:02d}-{val_loss:.2f}.hdf5\", \n",
    "#                               monitor='val_loss', save_best_only=True)\n",
    "\n",
    "from sklearn.preprocessing import MinMaxScaler\n",
    "from sklearn.manifold import TSNE\n",
    "from sklearn.linear_model import LogisticRegression\n",
    "from sklearn.model_selection import train_test_split\n",
    "from sklearn.metrics import confusion_matrix, classification_report, accuracy_score, recall_score, precision_score"
   ]
  },
  {
   "cell_type": "code",
   "execution_count": 2,
   "metadata": {},
   "outputs": [
    {
     "name": "stdout",
     "output_type": "stream",
     "text": [
      "reading data\n",
      "shape (124494, 12)\n"
     ]
    },
    {
     "data": {
      "text/html": [
       "<div>\n",
       "<style scoped>\n",
       "    .dataframe tbody tr th:only-of-type {\n",
       "        vertical-align: middle;\n",
       "    }\n",
       "\n",
       "    .dataframe tbody tr th {\n",
       "        vertical-align: top;\n",
       "    }\n",
       "\n",
       "    .dataframe thead th {\n",
       "        text-align: right;\n",
       "    }\n",
       "</style>\n",
       "<table border=\"1\" class=\"dataframe\">\n",
       "  <thead>\n",
       "    <tr style=\"text-align: right;\">\n",
       "      <th></th>\n",
       "      <th>date</th>\n",
       "      <th>device</th>\n",
       "      <th>failure</th>\n",
       "      <th>attribute1</th>\n",
       "      <th>attribute2</th>\n",
       "      <th>attribute3</th>\n",
       "      <th>attribute4</th>\n",
       "      <th>attribute5</th>\n",
       "      <th>attribute6</th>\n",
       "      <th>attribute7</th>\n",
       "      <th>attribute8</th>\n",
       "      <th>attribute9</th>\n",
       "    </tr>\n",
       "  </thead>\n",
       "  <tbody>\n",
       "    <tr>\n",
       "      <th>0</th>\n",
       "      <td>2015-01-01</td>\n",
       "      <td>S1F01085</td>\n",
       "      <td>0</td>\n",
       "      <td>215630672</td>\n",
       "      <td>56</td>\n",
       "      <td>0</td>\n",
       "      <td>52</td>\n",
       "      <td>6</td>\n",
       "      <td>407438</td>\n",
       "      <td>0</td>\n",
       "      <td>0</td>\n",
       "      <td>7</td>\n",
       "    </tr>\n",
       "    <tr>\n",
       "      <th>1</th>\n",
       "      <td>2015-01-01</td>\n",
       "      <td>S1F0166B</td>\n",
       "      <td>0</td>\n",
       "      <td>61370680</td>\n",
       "      <td>0</td>\n",
       "      <td>3</td>\n",
       "      <td>0</td>\n",
       "      <td>6</td>\n",
       "      <td>403174</td>\n",
       "      <td>0</td>\n",
       "      <td>0</td>\n",
       "      <td>0</td>\n",
       "    </tr>\n",
       "    <tr>\n",
       "      <th>2</th>\n",
       "      <td>2015-01-01</td>\n",
       "      <td>S1F01E6Y</td>\n",
       "      <td>0</td>\n",
       "      <td>173295968</td>\n",
       "      <td>0</td>\n",
       "      <td>0</td>\n",
       "      <td>0</td>\n",
       "      <td>12</td>\n",
       "      <td>237394</td>\n",
       "      <td>0</td>\n",
       "      <td>0</td>\n",
       "      <td>0</td>\n",
       "    </tr>\n",
       "    <tr>\n",
       "      <th>3</th>\n",
       "      <td>2015-01-01</td>\n",
       "      <td>S1F01JE0</td>\n",
       "      <td>0</td>\n",
       "      <td>79694024</td>\n",
       "      <td>0</td>\n",
       "      <td>0</td>\n",
       "      <td>0</td>\n",
       "      <td>6</td>\n",
       "      <td>410186</td>\n",
       "      <td>0</td>\n",
       "      <td>0</td>\n",
       "      <td>0</td>\n",
       "    </tr>\n",
       "    <tr>\n",
       "      <th>4</th>\n",
       "      <td>2015-01-01</td>\n",
       "      <td>S1F01R2B</td>\n",
       "      <td>0</td>\n",
       "      <td>135970480</td>\n",
       "      <td>0</td>\n",
       "      <td>0</td>\n",
       "      <td>0</td>\n",
       "      <td>15</td>\n",
       "      <td>313173</td>\n",
       "      <td>0</td>\n",
       "      <td>0</td>\n",
       "      <td>3</td>\n",
       "    </tr>\n",
       "  </tbody>\n",
       "</table>\n",
       "</div>"
      ],
      "text/plain": [
       "        date    device  failure  attribute1  attribute2  attribute3  \\\n",
       "0 2015-01-01  S1F01085        0   215630672          56           0   \n",
       "1 2015-01-01  S1F0166B        0    61370680           0           3   \n",
       "2 2015-01-01  S1F01E6Y        0   173295968           0           0   \n",
       "3 2015-01-01  S1F01JE0        0    79694024           0           0   \n",
       "4 2015-01-01  S1F01R2B        0   135970480           0           0   \n",
       "\n",
       "   attribute4  attribute5  attribute6  attribute7  attribute8  attribute9  \n",
       "0          52           6      407438           0           0           7  \n",
       "1           0           6      403174           0           0           0  \n",
       "2           0          12      237394           0           0           0  \n",
       "3           0           6      410186           0           0           0  \n",
       "4           0          15      313173           0           0           3  "
      ]
     },
     "execution_count": 2,
     "metadata": {},
     "output_type": "execute_result"
    }
   ],
   "source": [
    "print(\"reading data\")\n",
    "df = pd.read_csv(\"device_failure.csv\", parse_dates=[\"date\"])\n",
    "# df = df.sample(frac=1.0).reset_index(drop=True)\n",
    "print(\"shape\", df.shape)\n",
    "df.head()"
   ]
  },
  {
   "cell_type": "code",
   "execution_count": 3,
   "metadata": {},
   "outputs": [
    {
     "name": "stdout",
     "output_type": "stream",
     "text": [
      "This shows the class imbalance\n",
      "0    124388\n",
      "1       106\n",
      "Name: failure, dtype: int64\n",
      "Total unique devices =  1168\n",
      "we will be using only below 9 features as predictors\n"
     ]
    },
    {
     "data": {
      "text/plain": [
       "['attribute1',\n",
       " 'attribute2',\n",
       " 'attribute3',\n",
       " 'attribute4',\n",
       " 'attribute5',\n",
       " 'attribute6',\n",
       " 'attribute7',\n",
       " 'attribute8',\n",
       " 'attribute9']"
      ]
     },
     "execution_count": 3,
     "metadata": {},
     "output_type": "execute_result"
    }
   ],
   "source": [
    "print(\"This shows the class imbalance\")\n",
    "print(df[\"failure\"].value_counts())\n",
    "\n",
    "print(\"Total unique devices = \" , df[\"device\"].nunique())\n",
    "\n",
    "#print(\" unique years \", df[\"date\"].dt.year.unique())\n",
    "#print(\" unique months \",df[\"date\"].dt.month.unique())\n",
    "\n",
    "predictors = [c for c in df.columns if c not in [\"date\", \"device\",\"failure\"]]\n",
    "print(\"we will be using only below {} features as predictors\".format(len(predictors)))\n",
    "predictors"
   ]
  },
  {
   "cell_type": "code",
   "execution_count": 4,
   "metadata": {},
   "outputs": [
    {
     "name": "stderr",
     "output_type": "stream",
     "text": [
      "/home/rahul/anaconda3/lib/python3.6/site-packages/sklearn/preprocessing/data.py:334: DataConversionWarning: Data with input dtype int64 were all converted to float64 by MinMaxScaler.\n",
      "  return self.partial_fit(X, y)\n",
      "/home/rahul/anaconda3/lib/python3.6/site-packages/sklearn/preprocessing/data.py:334: DataConversionWarning: Data with input dtype int64 were all converted to float64 by MinMaxScaler.\n",
      "  return self.partial_fit(X, y)\n"
     ]
    },
    {
     "name": "stdout",
     "output_type": "stream",
     "text": [
      "shape of only failure data (106, 12)\n",
      "shape of training set (123388, 12)\n",
      "shape of test set (1001, 12)\n"
     ]
    },
    {
     "data": {
      "text/plain": [
       "7"
      ]
     },
     "execution_count": 4,
     "metadata": {},
     "output_type": "execute_result"
    }
   ],
   "source": [
    "# divide the dataset\n",
    "df_failure = df[df[\"failure\"] == 1] \n",
    "df_nonfailure_test = df[df[\"failure\"] == 0].loc[:1000].reset_index(drop=True) # to be used later for testing\n",
    "df_nonfailure = df[df[\"failure\"] == 0].loc[1000:].reset_index(drop=True) # training set\n",
    "\n",
    "# scale the input\n",
    "df_failure[predictors] = MinMaxScaler().fit_transform(df_failure[predictors])\n",
    "df_nonfailure[predictors] = MinMaxScaler().fit_transform(df_nonfailure[predictors])\n",
    "\n",
    "print(\"shape of only failure data\", df_failure.shape)\n",
    "print(\"shape of training set\", df_nonfailure.shape)\n",
    "print(\"shape of test set\", df_nonfailure_test.shape)\n",
    "\n",
    "\n",
    "del df\n",
    "gc.collect()"
   ]
  },
  {
   "cell_type": "code",
   "execution_count": 5,
   "metadata": {},
   "outputs": [
    {
     "data": {
      "image/png": "[encoded data removed]",
      "text/plain": [
       "<Figure size 864x504 with 1 Axes>"
      ]
     },
     "metadata": {
      "needs_background": "light"
     },
     "output_type": "display_data"
    },
    {
     "data": {
      "text/plain": [
       "2506"
      ]
     },
     "execution_count": 5,
     "metadata": {},
     "output_type": "execute_result"
    }
   ],
   "source": [
    "# create the plotting helper function\n",
    "def plot_tsne(x, y, name, title):\n",
    "    x_new = TSNE(random_state=seed).fit_transform(x)\n",
    "\n",
    "    plt.figure(figsize=(12,7))\n",
    "    plt.scatter(x_new[np.where(y == 0),0], x_new[np.where(y == 0),1],color='g',alpha=0.8,label=\"NonFailure\")\n",
    "    plt.scatter(x_new[np.where(y == 1),0], x_new[np.where(y == 1),1],color='r',alpha=0.8,label=\"Failure\")\n",
    "    plt.legend(loc='best')\n",
    "    plt.title(title)\n",
    "    plt.savefig(name)\n",
    "    plt.show()\n",
    "\n",
    "\n",
    "    # visualize full failure data and just 500 samples from non failure data    \n",
    "tmp = pd.concat([df_failure, df_nonfailure.sample(1000)], axis=0)\n",
    "plot_tsne(tmp[predictors], tmp[\"failure\"],name=\"classImbalance.png\", title=\"Original Data\")\n",
    "\n",
    "del tmp\n",
    "gc.collect()"
   ]
  },
  {
   "cell_type": "markdown",
   "metadata": {},
   "source": [
    "### As can be clearly seen from fig above that data is not linearly separable"
   ]
  },
  {
   "cell_type": "code",
   "execution_count": 6,
   "metadata": {},
   "outputs": [
    {
     "name": "stdout",
     "output_type": "stream",
     "text": [
      "Model: \"model\"\n",
      "_________________________________________________________________\n",
      "Layer (type)                 Output Shape              Param #   \n",
      "=================================================================\n",
      "inp (InputLayer)             [(None, 9)]               0         \n",
      "_________________________________________________________________\n",
      "dense (Dense)                (None, 9)                 90        \n",
      "_________________________________________________________________\n",
      "batch_normalization_v2 (Batc (None, 9)                 36        \n",
      "_________________________________________________________________\n",
      "activation (Activation)      (None, 9)                 0         \n",
      "_________________________________________________________________\n",
      "dense_1 (Dense)              (None, 4)                 40        \n",
      "_________________________________________________________________\n",
      "batch_normalization_v2_1 (Ba (None, 4)                 16        \n",
      "_________________________________________________________________\n",
      "activation_1 (Activation)    (None, 4)                 0         \n",
      "_________________________________________________________________\n",
      "dense_2 (Dense)              (None, 9)                 45        \n",
      "_________________________________________________________________\n",
      "batch_normalization_v2_2 (Ba (None, 9)                 36        \n",
      "_________________________________________________________________\n",
      "activation_2 (Activation)    (None, 9)                 0         \n",
      "=================================================================\n",
      "Total params: 263\n",
      "Trainable params: 219\n",
      "Non-trainable params: 44\n",
      "_________________________________________________________________\n",
      "None\n",
      "Train on 98710 samples, validate on 24678 samples\n",
      "Epoch 1/5\n",
      "98710/98710 [==============================] - 9s 94us/sample - loss: 0.0569 - val_loss: 0.0062\n",
      "Epoch 2/5\n",
      "98710/98710 [==============================] - 9s 87us/sample - loss: 0.0040 - val_loss: 0.0019\n",
      "Epoch 3/5\n",
      "98710/98710 [==============================] - 9s 87us/sample - loss: 0.0017 - val_loss: 0.0013\n",
      "Epoch 4/5\n",
      "98710/98710 [==============================] - 9s 87us/sample - loss: 0.0014 - val_loss: 5.8220e-04\n",
      "Epoch 5/5\n",
      "98710/98710 [==============================] - 9s 88us/sample - loss: 0.0011 - val_loss: 3.8971e-04\n"
     ]
    },
    {
     "data": {
      "text/plain": [
       "[<tensorflow.python.keras.engine.input_layer.InputLayer at 0x7fd5799e0898>,\n",
       " <tensorflow.python.keras.layers.core.Dense at 0x7fd57da337b8>,\n",
       " <tensorflow.python.keras.layers.normalization.BatchNormalizationV2 at 0x7fd572bc0550>,\n",
       " <tensorflow.python.keras.layers.core.Activation at 0x7fd572bc0438>,\n",
       " <tensorflow.python.keras.layers.core.Dense at 0x7fd578f2c860>,\n",
       " <tensorflow.python.keras.layers.normalization.BatchNormalizationV2 at 0x7fd578467748>,\n",
       " <tensorflow.python.keras.layers.core.Activation at 0x7fd578488fd0>,\n",
       " <tensorflow.python.keras.layers.core.Dense at 0x7fd5783aae48>,\n",
       " <tensorflow.python.keras.layers.normalization.BatchNormalizationV2 at 0x7fd5783ca748>,\n",
       " <tensorflow.python.keras.layers.core.Activation at 0x7fd57836cc18>]"
      ]
     },
     "execution_count": 6,
     "metadata": {},
     "output_type": "execute_result"
    }
   ],
   "source": [
    "# create a model\n",
    "def create_model(print_summary=True):\n",
    "    inp = Input(shape=(len(predictors),), name=\"inp\")\n",
    "\n",
    "    inp1 = Dense(len(predictors))(inp)\n",
    "    inp1 = BatchNormalization()(inp1)\n",
    "    inp1 = Activation('relu')(inp1)\n",
    "    \n",
    "    latent = Dense(4)(inp1)\n",
    "    latent = BatchNormalization()(latent)\n",
    "    latent = Activation('relu')(latent)\n",
    "\n",
    "    out = Dense(len(predictors))(latent)\n",
    "    out = BatchNormalization()(out)\n",
    "    out = Activation('relu')(out)\n",
    "\n",
    "    model = Model(inp, out)\n",
    "\n",
    "    model.compile(optimizer='adam',loss='mse')\n",
    "    \n",
    "    if print_summary:\n",
    "        print(model.summary())\n",
    "    \n",
    "    return model\n",
    "\n",
    "model = create_model(print_summary=True)\n",
    "\n",
    "\n",
    "# train the model\n",
    "history = model.fit(df_nonfailure[predictors],df_nonfailure[predictors],\n",
    "                    batch_size=32,epochs=5,validation_split=0.2) #,callbacks=[checkpoint])\n",
    "\n",
    "model.layers"
   ]
  },
  {
   "cell_type": "code",
   "execution_count": 7,
   "metadata": {},
   "outputs": [
    {
     "data": {
      "image/png": "[encoded data removed]",
      "text/plain": [
       "<Figure size 432x288 with 1 Axes>"
      ]
     },
     "metadata": {
      "needs_background": "light"
     },
     "output_type": "display_data"
    }
   ],
   "source": [
    "# Plot training & validation loss values\n",
    "plt.plot(history.history['loss'])\n",
    "plt.plot(history.history['val_loss'])\n",
    "plt.title('Model loss')\n",
    "plt.ylabel('Loss')\n",
    "plt.xlabel('Epoch')\n",
    "plt.legend(['Train', 'Test'], loc='best')\n",
    "plt.show()"
   ]
  },
  {
   "cell_type": "markdown",
   "metadata": {},
   "source": [
    "### now that our model is trained for 5 epochs and the train loss and val loss are similar and low, we can use the encoded layer (often called as bottleneck) to get latent representation of the data we trained on.\n"
   ]
  },
  {
   "cell_type": "code",
   "execution_count": 8,
   "metadata": {},
   "outputs": [],
   "source": [
    "# using ModelCheckpoint callbacks, we can save model and model weights to our disc and \n",
    "# then at inference time we can load only the best weights. This improves accuracy (or reduces loss) \n",
    "# and improves generalization\n",
    "\n",
    "# model = load_model(\"autoenco.05-0.00.hdf5\") # loading the latest weights"
   ]
  },
  {
   "cell_type": "code",
   "execution_count": null,
   "metadata": {},
   "outputs": [],
   "source": [
    "#  Obtain the Latent Representations\n",
    "hid_repr = Sequential()\n",
    "hid_repr.add(model.layers[0])\n",
    "hid_repr.add(model.layers[1])\n",
    "hid_repr.add(model.layers[2])\n",
    "hid_repr.add(model.layers[3])\n",
    "hid_repr.add(model.layers[4])\n",
    "hid_repr.add(model.layers[5])\n",
    "hid_repr.add(model.layers[6])\n",
    "\n",
    "# predict on the hold out test set\n",
    "hid_rep_nonfailure = hid_repr.predict(df_nonfailure_test[predictors])\n",
    "# predict on data(with only POSITIVE Class)\n",
    "hid_rep_failure = hid_repr.predict(df_failure[predictors])"
   ]
  },
  {
   "cell_type": "code",
   "execution_count": null,
   "metadata": {},
   "outputs": [],
   "source": [
    "# visualize once again\n",
    "tmp_x = np.concatenate([hid_rep_failure, hid_rep_nonfailure], axis=0)\n",
    "tmp_x = TSNE(random_state=seed).fit_transform(tmp_x)\n",
    "\n",
    "f_y = np.ones(hid_rep_failure.shape[0])\n",
    "n_y = np.zeros(hid_rep_nonfailure.shape[0])\n",
    "tmp_y = np.concatenate([f_y, n_y], axis=0)\n",
    "\n",
    "# call the plotting helper function\n",
    "plot_tsne(tmp_x, tmp_y, name=\"transformedData.png\", title=\"Transformed Data\")\n",
    "\n",
    "del n_y, f_y\n",
    "gc.collect()"
   ]
  },
  {
   "cell_type": "markdown",
   "metadata": {},
   "source": [
    "### as can be seen from the above plot, the data is quiet linearly separable using a simple linear algorithm"
   ]
  },
  {
   "cell_type": "code",
   "execution_count": null,
   "metadata": {},
   "outputs": [],
   "source": [
    "# finally apply any simpler algo\n",
    "\n",
    "train_x, val_x, train_y, val_y = train_test_split(tmp_x, tmp_y, test_size=.25, random_state=seed)\n",
    "\n",
    "lr = LogisticRegression(random_state=seed, n_jobs=-1, solver='saga')\n",
    "lr.fit(train_x, train_y)\n",
    "pred_y = lr.predict(val_x)"
   ]
  },
  {
   "cell_type": "code",
   "execution_count": null,
   "metadata": {},
   "outputs": [],
   "source": [
    "print(confusion_matrix(y_true=val_y, y_pred=pred_y))\n",
    "sns.heatmap(confusion_matrix(y_true=val_y, y_pred=pred_y), annot=True)"
   ]
  },
  {
   "cell_type": "code",
   "execution_count": null,
   "metadata": {},
   "outputs": [],
   "source": [
    "print(classification_report(y_true=val_y, y_pred=pred_y))"
   ]
  },
  {
   "cell_type": "markdown",
   "metadata": {},
   "source": [
    "# Conclusion"
   ]
  },
  {
   "cell_type": "markdown",
   "metadata": {},
   "source": [
    "- First we divided the data into two parts as per the class labels.\n",
    " - Visualization shows the data is highly imbalanced and not linearly separable.\n",
    "- Then we trained model on only majority class data(in our case label '0' - NonFailure)\n",
    "- Then we get the hidden representation using the bottleneck layer(encoding layers) and transform the datasets (full POSITIVE label dataset(minority) and sample NEGATIVE dataset)\n",
    " - Visualization shows the data is linearly separable\n",
    "- Train a simple linear model on the newly transformed data"
   ]
  },
  {
   "cell_type": "code",
   "execution_count": null,
   "metadata": {},
   "outputs": [],
   "source": []
  }
 ],
 "metadata": {
  "kernelspec": {
   "display_name": "Python 3",
   "language": "python",
   "name": "python3"
  },
  "language_info": {
   "codemirror_mode": {
    "name": "ipython",
    "version": 3
   },
   "file_extension": ".py",
   "mimetype": "text/x-python",
   "name": "python",
   "nbconvert_exporter": "python",
   "pygments_lexer": "ipython3",
   "version": "3.6.8"
  }
 },
 "nbformat": 4,
 "nbformat_minor": 2
}
