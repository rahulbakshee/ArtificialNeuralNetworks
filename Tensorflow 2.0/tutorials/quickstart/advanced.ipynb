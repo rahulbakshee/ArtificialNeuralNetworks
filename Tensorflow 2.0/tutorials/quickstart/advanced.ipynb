{
 "cells": [
  {
   "cell_type": "markdown",
   "metadata": {},
   "source": [
    "### This notebook is following the code from\n",
    "https://www.tensorflow.org/tutorials/quickstart/advanced"
   ]
  },
  {
   "cell_type": "code",
   "execution_count": 1,
   "metadata": {},
   "outputs": [
    {
     "name": "stdout",
     "output_type": "stream",
     "text": [
      "2.3.0\n"
     ]
    }
   ],
   "source": [
    "import torch \n",
    "import tensorflow as tf\n",
    "print(tf.__version__)\n",
    "\n",
    "import matplotlib.pyplot as plt\n",
    "%matplotlib inline\n",
    "\n",
    "from tensorflow.keras.models import Model\n",
    "from tensorflow.keras.layers import Conv2D, Flatten, Dense"
   ]
  },
  {
   "cell_type": "code",
   "execution_count": 2,
   "metadata": {},
   "outputs": [],
   "source": [
    "# physical_devices = tf.config.experimental.list_physical_devices('GPU')\n",
    "# tf.config.experimental.set_memory_growth(physical_devices[0], True)"
   ]
  },
  {
   "cell_type": "code",
   "execution_count": 3,
   "metadata": {},
   "outputs": [],
   "source": [
    "# gpus = tf.config.experimental.list_physical_devices('GPU')\n",
    "# if gpus:\n",
    "#     # Restrict TensorFlow to only allocate 1GB * 2 of memory on the first GPU\n",
    "#     try:\n",
    "#         tf.config.experimental.set_virtual_device_configuration(\n",
    "#             gpus[0],\n",
    "#             [tf.config.experimental.VirtualDeviceConfiguration(memory_limit=1024 * 2)])\n",
    "#         logical_gpus = tf.config.experimental.list_logical_devices('GPU')\n",
    "#         print(len(gpus), \"Physical GPUs,\", len(logical_gpus), \"Logical GPUs\")\n",
    "#     except RuntimeError as e:\n",
    "#         # Virtual devices must be set before GPUs have been initialized\n",
    "#         print(e)"
   ]
  },
  {
   "cell_type": "code",
   "execution_count": 4,
   "metadata": {},
   "outputs": [
    {
     "data": {
      "text/plain": [
       "((60000, 28, 28), (10000, 28, 28))"
      ]
     },
     "execution_count": 4,
     "metadata": {},
     "output_type": "execute_result"
    }
   ],
   "source": [
    "mnist = tf.keras.datasets.mnist\n",
    "(x_train, y_train), (x_test, y_test) = mnist.load_data()\n",
    "x_train, x_test = x_train/255., x_test/255.  \n",
    "\n",
    "x_train.shape, x_test.shape"
   ]
  },
  {
   "cell_type": "code",
   "execution_count": 5,
   "metadata": {},
   "outputs": [
    {
     "data": {
      "text/plain": [
       "((60000, 28, 28, 1), (10000, 28, 28, 1))"
      ]
     },
     "execution_count": 5,
     "metadata": {},
     "output_type": "execute_result"
    }
   ],
   "source": [
    "# add a channel dimension \n",
    "x_train = x_train[..., tf.newaxis].astype(\"float32\")\n",
    "x_test = x_test[..., tf.newaxis].astype(\"float32\")\n",
    "\n",
    "x_train.shape, x_test.shape"
   ]
  },
  {
   "cell_type": "code",
   "execution_count": 6,
   "metadata": {},
   "outputs": [],
   "source": [
    "# use tf.data to batch and shuffle the dataset\n",
    "train_ds = tf.data.Dataset.from_tensor_slices((x_train, y_train)).shuffle(10000).batch(32)\n",
    "test_ds = tf.data.Dataset.from_tensor_slices((x_test, y_test)).batch(32)"
   ]
  },
  {
   "cell_type": "code",
   "execution_count": 7,
   "metadata": {},
   "outputs": [],
   "source": [
    "# build keras model by using the model subclassing \n",
    "\n",
    "class MyModel(Model):\n",
    "    def __init__(self):\n",
    "        super(MyModel, self).__init__()\n",
    "        self.conv1 = Conv2D(32, 3, activation='relu')\n",
    "        self.flatten = Flatten()\n",
    "        self.d1 = Dense(128, activation = 'relu')\n",
    "        self.d2 = Dense(10)\n",
    "        \n",
    "    def call(self, x):\n",
    "        x = self.conv1(x)\n",
    "        x = self.flatten(x)\n",
    "        x = self.d1(x)\n",
    "        x = self.d2(x)\n",
    "        return x\n",
    "    \n",
    "model = MyModel()"
   ]
  },
  {
   "cell_type": "code",
   "execution_count": 8,
   "metadata": {},
   "outputs": [],
   "source": [
    "loss_obect = tf.keras.losses.SparseCategoricalCrossentropy(from_logits=True)\n",
    "optimizer = tf.keras.optimizers.Adam()\n",
    "\n",
    "train_accuracy = tf.keras.metrics.SparseCategoricalAccuracy(name='train_accuracy')\n",
    "test_accuracy = tf.keras.metrics.SparseCategoricalAccuracy(name='test_acuracy')\n"
   ]
  },
  {
   "cell_type": "code",
   "execution_count": 9,
   "metadata": {},
   "outputs": [],
   "source": [
    "# for printing the results at each epoch\n",
    "train_loss_mean = tf.keras.metrics.Mean(name='train_loss')\n",
    "test_loss_mean = tf.keras.metrics.Mean(name='test_loss')"
   ]
  },
  {
   "cell_type": "code",
   "execution_count": 10,
   "metadata": {},
   "outputs": [],
   "source": [
    "# tf.GradientTape to train the model\n",
    "\n",
    "@tf.function\n",
    "def train_step(images, labels):\n",
    "    with tf.GradientTape() as tape:\n",
    "        preds = model(images, training=True)\n",
    "        loss = loss_obect(labels, preds)\n",
    "    gradients = tape.gradient(loss, model.trainable_variables)\n",
    "    optimizer.apply_gradients(zip(gradients,model.trainable_variables))\n",
    "    \n",
    "    # below is for the displaying results \n",
    "    train_loss_mean(loss)\n",
    "    train_accuracy(labels, preds)"
   ]
  },
  {
   "cell_type": "code",
   "execution_count": 11,
   "metadata": {},
   "outputs": [],
   "source": [
    "@tf.function\n",
    "def test_step(images, labels):\n",
    "    preds = model(images, training=False)\n",
    "    t_loss = loss_obect(labels, preds)\n",
    "    \n",
    "    # below is for the displaying results\n",
    "    test_loss_mean(t_loss)\n",
    "    test_accuracy(labels, preds)"
   ]
  },
  {
   "cell_type": "code",
   "execution_count": 12,
   "metadata": {},
   "outputs": [
    {
     "name": "stdout",
     "output_type": "stream",
     "text": [
      "Epoch 1, Loss: 0.13962650299072266, Accuracy: 95.79666900634766, Test Loss: 0.06152357906103134, Test Accuracy: 97.91999816894531\n",
      "Epoch 2, Loss: 0.0445728525519371, Accuracy: 98.625, Test Loss: 0.05542219057679176, Test Accuracy: 98.29999542236328\n",
      "Epoch 3, Loss: 0.023003609851002693, Accuracy: 99.288330078125, Test Loss: 0.04975861310958862, Test Accuracy: 98.32999420166016\n",
      "Epoch 4, Loss: 0.015097888186573982, Accuracy: 99.50833129882812, Test Loss: 0.05564732849597931, Test Accuracy: 98.43999481201172\n",
      "Epoch 5, Loss: 0.009281602688133717, Accuracy: 99.69666290283203, Test Loss: 0.060736045241355896, Test Accuracy: 98.40999603271484\n",
      "Epoch 6, Loss: 0.00916693452745676, Accuracy: 99.69000244140625, Test Loss: 0.0707729235291481, Test Accuracy: 98.25\n",
      "Epoch 7, Loss: 0.004770190455019474, Accuracy: 99.83666229248047, Test Loss: 0.08128125965595245, Test Accuracy: 98.19999694824219\n",
      "Epoch 8, Loss: 0.006122227758169174, Accuracy: 99.77999877929688, Test Loss: 0.06571256369352341, Test Accuracy: 98.6199951171875\n",
      "Epoch 9, Loss: 0.004248518496751785, Accuracy: 99.86000061035156, Test Loss: 0.07607237994670868, Test Accuracy: 98.43999481201172\n",
      "Epoch 10, Loss: 0.0037472075782716274, Accuracy: 99.89500427246094, Test Loss: 0.09059937298297882, Test Accuracy: 98.33999633789062\n",
      "Epoch 11, Loss: 0.0043705119751393795, Accuracy: 99.85333251953125, Test Loss: 0.0825868621468544, Test Accuracy: 98.33999633789062\n",
      "Epoch 12, Loss: 0.001557347015477717, Accuracy: 99.94833374023438, Test Loss: 0.09183068573474884, Test Accuracy: 98.22000122070312\n",
      "Epoch 13, Loss: 0.0036505262833088636, Accuracy: 99.87666320800781, Test Loss: 0.08384066820144653, Test Accuracy: 98.40999603271484\n",
      "Epoch 14, Loss: 0.002632261486724019, Accuracy: 99.91666412353516, Test Loss: 0.0901690199971199, Test Accuracy: 98.4000015258789\n",
      "Epoch 15, Loss: 0.0026868858840316534, Accuracy: 99.91000366210938, Test Loss: 0.09211616963148117, Test Accuracy: 98.41999816894531\n"
     ]
    }
   ],
   "source": [
    "EPOCHS = 15\n",
    "\n",
    "for epoch in range(EPOCHS):\n",
    "    # reste the metrics at start of every epoch\n",
    "    train_loss_mean.reset_states()\n",
    "    train_accuracy.reset_states()\n",
    "    \n",
    "    test_loss_mean.reset_states()\n",
    "    test_accuracy.reset_states()\n",
    "    \n",
    "    for images,labels in train_ds:\n",
    "        train_step(images, labels)\n",
    "        \n",
    "    for test_images, test_labels in test_ds:\n",
    "        test_step(test_images, test_labels)\n",
    "       \n",
    "    template = 'Epoch {}, Loss: {}, Accuracy: {}, Test Loss: {}, Test Accuracy: {}'\n",
    "    print(template.format(epoch+1, \n",
    "                          train_loss_mean.result(),\n",
    "                          train_accuracy.result() * 100, \n",
    "                          test_loss_mean.result(),\n",
    "                          test_accuracy.result() * 100)) "
   ]
  },
  {
   "cell_type": "code",
   "execution_count": null,
   "metadata": {},
   "outputs": [],
   "source": []
  },
  {
   "cell_type": "code",
   "execution_count": null,
   "metadata": {},
   "outputs": [],
   "source": []
  },
  {
   "cell_type": "code",
   "execution_count": null,
   "metadata": {},
   "outputs": [],
   "source": []
  },
  {
   "cell_type": "code",
   "execution_count": null,
   "metadata": {},
   "outputs": [],
   "source": []
  },
  {
   "cell_type": "code",
   "execution_count": null,
   "metadata": {},
   "outputs": [],
   "source": []
  }
 ],
 "metadata": {
  "kernelspec": {
   "display_name": "Python 3",
   "language": "python",
   "name": "python3"
  },
  "language_info": {
   "codemirror_mode": {
    "name": "ipython",
    "version": 3
   },
   "file_extension": ".py",
   "mimetype": "text/x-python",
   "name": "python",
   "nbconvert_exporter": "python",
   "pygments_lexer": "ipython3",
   "version": "3.8.3"
  }
 },
 "nbformat": 4,
 "nbformat_minor": 4
}
