{
 "cells": [
  {
   "cell_type": "markdown",
   "metadata": {},
   "source": [
    "# Overfit and underfit\n",
    "https://www.tensorflow.org/tutorials/keras/overfit_and_underfit"
   ]
  },
  {
   "cell_type": "code",
   "execution_count": 1,
   "metadata": {},
   "outputs": [
    {
     "name": "stdout",
     "output_type": "stream",
     "text": [
      "version 2.3.0\n",
      "tf executing eagerly True\n",
      "GPU is available\n"
     ]
    }
   ],
   "source": [
    "import tensorflow as tf\n",
    "print(\"version\", tf.__version__)\n",
    "print(\"tf executing eagerly\", tf.executing_eagerly())\n",
    "print(\"GPU is\", \"available\" if tf.config.list_physical_devices(\"GPU\") else \"not available\")\n"
   ]
  },
  {
   "cell_type": "code",
   "execution_count": 2,
   "metadata": {},
   "outputs": [],
   "source": [
    "!pip install -q git+https://github.com/tensorflow/docs"
   ]
  },
  {
   "cell_type": "code",
   "execution_count": 3,
   "metadata": {},
   "outputs": [],
   "source": [
    "import tensorflow_docs \n",
    "from tensorflow_docs.plots import HistoryPlotter\n",
    "from tensorflow_docs.modeling import EpochDots\n",
    "from tensorflow.keras.callbacks import EarlyStopping\n",
    "from tensorflow.keras.callbacks import TensorBoard\n",
    "from tensorflow.keras.losses import BinaryCrossentropy\n",
    "from tensorflow.keras.layers import Dense\n",
    "from tensorflow.keras.layers import Dropout\n",
    "from tensorflow.keras.regularizers import l2"
   ]
  },
  {
   "cell_type": "code",
   "execution_count": 4,
   "metadata": {},
   "outputs": [],
   "source": [
    "from IPython import display\n",
    "from matplotlib import pyplot as plt\n",
    "\n",
    "import numpy as np\n",
    "seed = 21\n",
    "\n",
    "import pathlib\n",
    "from pathlib import PosixPath, PurePosixPath\n",
    "import shutil\n",
    "import tempfile"
   ]
  },
  {
   "cell_type": "code",
   "execution_count": 5,
   "metadata": {},
   "outputs": [],
   "source": [
    "logdir = pathlib.Path(tempfile.mkdtemp())/\"tensorflow_logs\"\n",
    "shutil.rmtree(logdir, ignore_errors=True)"
   ]
  },
  {
   "cell_type": "code",
   "execution_count": 6,
   "metadata": {},
   "outputs": [],
   "source": [
    "# Higgs dataset\n",
    "gz = tf.keras.utils.get_file(\"HIGGS.csv.gz\", 'http://mlphysics.ics.uci.edu/data/higgs/HIGGS.csv.gz')\n"
   ]
  },
  {
   "cell_type": "code",
   "execution_count": 7,
   "metadata": {},
   "outputs": [],
   "source": [
    "FEATURES = 28\n",
    "ds = tf.data.experimental.CsvDataset(gz,[float(),]*(FEATURES+1), compression_type=\"GZIP\")\n",
    "\n",
    "def pack_row(*row):\n",
    "    label = row[0]\n",
    "    features = tf.stack(row[1:],1)\n",
    "    return features, label\n",
    "\n",
    "packed_ds = ds.batch(10000).map(pack_row).unbatch()"
   ]
  },
  {
   "cell_type": "code",
   "execution_count": 8,
   "metadata": {},
   "outputs": [
    {
     "name": "stdout",
     "output_type": "stream",
     "text": [
      "tf.Tensor(\n",
      "[ 0.8692932  -0.6350818   0.22569026  0.32747006 -0.6899932   0.75420225\n",
      " -0.24857314 -1.0920639   0.          1.3749921  -0.6536742   0.9303491\n",
      "  1.1074361   1.1389043  -1.5781983  -1.0469854   0.          0.65792954\n",
      " -0.01045457 -0.04576717  3.1019614   1.35376     0.9795631   0.97807616\n",
      "  0.92000484  0.72165745  0.98875093  0.87667835], shape=(28,), dtype=float32)\n"
     ]
    },
    {
     "data": {
      "image/png": "[encoded data removed]",
      "text/plain": [
       "<Figure size 432x288 with 1 Axes>"
      ]
     },
     "metadata": {
      "needs_background": "light"
     },
     "output_type": "display_data"
    }
   ],
   "source": [
    "for features,label in packed_ds.batch(1000).take(1):\n",
    "    print(features[0])\n",
    "    plt.hist(features.numpy().flatten(), bins = 101)"
   ]
  },
  {
   "cell_type": "code",
   "execution_count": 9,
   "metadata": {},
   "outputs": [],
   "source": [
    "N_VALIDATION = int(1e3)\n",
    "N_TRAIN = int(1e4)\n",
    "BUFFER_SIZE = int(1e4)\n",
    "BATCH_SIZE = 500\n",
    "STEPS_PER_EPOCH = N_TRAIN//BATCH_SIZE"
   ]
  },
  {
   "cell_type": "code",
   "execution_count": 10,
   "metadata": {},
   "outputs": [],
   "source": [
    "validate_ds = packed_ds.take(N_VALIDATION).cache()\n",
    "train_ds = packed_ds.skip(N_VALIDATION).take(N_TRAIN).cache()"
   ]
  },
  {
   "cell_type": "code",
   "execution_count": 11,
   "metadata": {},
   "outputs": [],
   "source": [
    "validate_ds = validate_ds.batch(BATCH_SIZE)\n",
    "train_ds = train_ds.shuffle(BUFFER_SIZE).repeat().batch(BATCH_SIZE)"
   ]
  },
  {
   "cell_type": "code",
   "execution_count": 12,
   "metadata": {},
   "outputs": [],
   "source": [
    "lr_schedule = tf.keras.optimizers.schedules.InverseTimeDecay(\n",
    "                                          0.001,\n",
    "                                          decay_steps=STEPS_PER_EPOCH*1000,\n",
    "                                          decay_rate=1,\n",
    "                                          staircase=False)\n",
    "\n",
    "def get_optimizer():\n",
    "    return tf.keras.optimizers.Adam(lr_schedule)"
   ]
  },
  {
   "cell_type": "code",
   "execution_count": 13,
   "metadata": {},
   "outputs": [
    {
     "data": {
      "image/png": "[encoded data removed]",
      "text/plain": [
       "<Figure size 576x432 with 1 Axes>"
      ]
     },
     "metadata": {
      "needs_background": "light"
     },
     "output_type": "display_data"
    }
   ],
   "source": [
    "step = np.linspace(0,100000)\n",
    "lr = lr_schedule(step)\n",
    "plt.figure(figsize = (8,6))\n",
    "plt.plot(step/STEPS_PER_EPOCH, lr)\n",
    "plt.ylim([0,max(plt.ylim())])\n",
    "plt.xlabel('Epoch')\n",
    "_ = plt.ylabel('Learning Rate')"
   ]
  },
  {
   "cell_type": "code",
   "execution_count": 14,
   "metadata": {},
   "outputs": [],
   "source": [
    "def get_callbacks(name):\n",
    "    return([EpochDots(),\n",
    "           EarlyStopping(monitor='val_binary_crossentropy', patience = 200),\n",
    "           TensorBoard(logdir/name)])"
   ]
  },
  {
   "cell_type": "code",
   "execution_count": 15,
   "metadata": {},
   "outputs": [],
   "source": [
    "def compile_and_fit(model, name, optimizer=None, max_epochs = 10000):\n",
    "    if optimizer is None:\n",
    "        optimizer = get_optimizer()\n",
    "        model.compile(optimizer=optimizer, \n",
    "                     loss = BinaryCrossentropy(from_logits=True),\n",
    "                     metrics = [BinaryCrossentropy(from_logits=True, \n",
    "                                                name='binary_crossentropy'), \n",
    "                                'accuracy'])\n",
    "        model.summary()\n",
    "        \n",
    "        history = model.fit(train_ds,\n",
    "                            steps_per_epoch = STEPS_PER_EPOCH, \n",
    "                            epochs = max_epochs, \n",
    "                            validation_data = validate_ds, \n",
    "                            callbacks=get_callbacks(name), \n",
    "                            verbose = 0)\n",
    "        return history"
   ]
  },
  {
   "cell_type": "code",
   "execution_count": 16,
   "metadata": {},
   "outputs": [],
   "source": [
    "# tiny model\n",
    "tiny_model = tf.keras.Sequential([Dense(16, activation = 'elu', input_shape=(FEATURES,)),\n",
    "                                 Dense(1)])"
   ]
  },
  {
   "cell_type": "code",
   "execution_count": 17,
   "metadata": {},
   "outputs": [
    {
     "name": "stdout",
     "output_type": "stream",
     "text": [
      "Model: \"sequential\"\n",
      "_________________________________________________________________\n",
      "Layer (type)                 Output Shape              Param #   \n",
      "=================================================================\n",
      "dense (Dense)                (None, 16)                464       \n",
      "_________________________________________________________________\n",
      "dense_1 (Dense)              (None, 1)                 17        \n",
      "=================================================================\n",
      "Total params: 481\n",
      "Trainable params: 481\n",
      "Non-trainable params: 0\n",
      "_________________________________________________________________\n",
      "WARNING:tensorflow:From C:\\Users\\rahul\\anaconda3\\lib\\site-packages\\tensorflow\\python\\ops\\summary_ops_v2.py:1277: stop (from tensorflow.python.eager.profiler) is deprecated and will be removed after 2020-07-01.\n",
      "Instructions for updating:\n",
      "use `tf.profiler.experimental.stop` instead.\n",
      "WARNING:tensorflow:Callbacks method `on_train_batch_end` is slow compared to the batch time (batch time: 0.0020s vs `on_train_batch_end` time: 0.0439s). Check your callbacks.\n",
      "\n",
      "Epoch: 0, accuracy:0.4848,  binary_crossentropy:0.7855,  loss:0.7855,  val_accuracy:0.4670,  val_binary_crossentropy:0.7491,  val_loss:0.7491,  \n",
      "....................................................................................................\n",
      "Epoch: 100, accuracy:0.5772,  binary_crossentropy:0.6351,  loss:0.6351,  val_accuracy:0.5530,  val_binary_crossentropy:0.6352,  val_loss:0.6352,  \n",
      "....................................................................................................\n",
      "Epoch: 200, accuracy:0.5919,  binary_crossentropy:0.6295,  loss:0.6295,  val_accuracy:0.5670,  val_binary_crossentropy:0.6280,  val_loss:0.6280,  \n",
      "....................................................................................................\n",
      "Epoch: 300, accuracy:0.6022,  binary_crossentropy:0.6253,  loss:0.6253,  val_accuracy:0.5740,  val_binary_crossentropy:0.6223,  val_loss:0.6223,  \n",
      "....................................................................................................\n",
      "Epoch: 400, accuracy:0.6105,  binary_crossentropy:0.6206,  loss:0.6206,  val_accuracy:0.6000,  val_binary_crossentropy:0.6155,  val_loss:0.6155,  \n",
      "....................................................................................................\n",
      "Epoch: 500, accuracy:0.6150,  binary_crossentropy:0.6164,  loss:0.6164,  val_accuracy:0.5950,  val_binary_crossentropy:0.6123,  val_loss:0.6123,  \n",
      "....................................................................................................\n",
      "Epoch: 600, accuracy:0.6166,  binary_crossentropy:0.6120,  loss:0.6120,  val_accuracy:0.6120,  val_binary_crossentropy:0.6090,  val_loss:0.6090,  \n",
      "....................................................................................................\n",
      "Epoch: 700, accuracy:0.6230,  binary_crossentropy:0.6088,  loss:0.6088,  val_accuracy:0.6190,  val_binary_crossentropy:0.6065,  val_loss:0.6065,  \n",
      "....................................................................................................\n",
      "Epoch: 800, accuracy:0.6310,  binary_crossentropy:0.6053,  loss:0.6053,  val_accuracy:0.6300,  val_binary_crossentropy:0.6042,  val_loss:0.6042,  \n",
      "....................................................................................................\n",
      "Epoch: 900, accuracy:0.6354,  binary_crossentropy:0.6011,  loss:0.6011,  val_accuracy:0.6310,  val_binary_crossentropy:0.6022,  val_loss:0.6022,  \n",
      "....................................................................................................\n",
      "Epoch: 1000, accuracy:0.6417,  binary_crossentropy:0.5979,  loss:0.5979,  val_accuracy:0.6380,  val_binary_crossentropy:0.5999,  val_loss:0.5999,  \n",
      "....................................................................................................\n",
      "Epoch: 1100, accuracy:0.6452,  binary_crossentropy:0.5953,  loss:0.5953,  val_accuracy:0.6340,  val_binary_crossentropy:0.5979,  val_loss:0.5979,  \n",
      "....................................................................................................\n",
      "Epoch: 1200, accuracy:0.6492,  binary_crossentropy:0.5923,  loss:0.5923,  val_accuracy:0.6360,  val_binary_crossentropy:0.5957,  val_loss:0.5957,  \n",
      "....................................................................................................\n",
      "Epoch: 1300, accuracy:0.6560,  binary_crossentropy:0.5899,  loss:0.5899,  val_accuracy:0.6380,  val_binary_crossentropy:0.5956,  val_loss:0.5956,  \n",
      "....................................................................................................\n",
      "Epoch: 1400, accuracy:0.6542,  binary_crossentropy:0.5878,  loss:0.5878,  val_accuracy:0.6430,  val_binary_crossentropy:0.5929,  val_loss:0.5929,  \n",
      "....................................................................................................\n",
      "Epoch: 1500, accuracy:0.6601,  binary_crossentropy:0.5855,  loss:0.5855,  val_accuracy:0.6420,  val_binary_crossentropy:0.5922,  val_loss:0.5922,  \n",
      "....................................................................................................\n",
      "Epoch: 1600, accuracy:0.6604,  binary_crossentropy:0.5839,  loss:0.5839,  val_accuracy:0.6460,  val_binary_crossentropy:0.5910,  val_loss:0.5910,  \n",
      "....................................................................................................\n",
      "Epoch: 1700, accuracy:0.6680,  binary_crossentropy:0.5827,  loss:0.5827,  val_accuracy:0.6480,  val_binary_crossentropy:0.5901,  val_loss:0.5901,  \n",
      "....................................................................................................\n",
      "Epoch: 1800, accuracy:0.6662,  binary_crossentropy:0.5812,  loss:0.5812,  val_accuracy:0.6490,  val_binary_crossentropy:0.5897,  val_loss:0.5897,  \n",
      "....................................................................................................\n",
      "Epoch: 1900, accuracy:0.6665,  binary_crossentropy:0.5800,  loss:0.5800,  val_accuracy:0.6660,  val_binary_crossentropy:0.5877,  val_loss:0.5877,  \n",
      "....................................................................................................\n",
      "Epoch: 2000, accuracy:0.6733,  binary_crossentropy:0.5794,  loss:0.5794,  val_accuracy:0.6440,  val_binary_crossentropy:0.5899,  val_loss:0.5899,  \n",
      "....................................................................................................\n",
      "Epoch: 2100, accuracy:0.6694,  binary_crossentropy:0.5776,  loss:0.5776,  val_accuracy:0.6680,  val_binary_crossentropy:0.5862,  val_loss:0.5862,  \n",
      "....................................................................................................\n",
      "Epoch: 2200, accuracy:0.6703,  binary_crossentropy:0.5773,  loss:0.5773,  val_accuracy:0.6710,  val_binary_crossentropy:0.5858,  val_loss:0.5858,  \n",
      "....................................................................................................\n",
      "Epoch: 2300, accuracy:0.6705,  binary_crossentropy:0.5760,  loss:0.5760,  val_accuracy:0.6720,  val_binary_crossentropy:0.5851,  val_loss:0.5851,  \n",
      "....................................................................................................\n",
      "Epoch: 2400, accuracy:0.6755,  binary_crossentropy:0.5753,  loss:0.5753,  val_accuracy:0.6640,  val_binary_crossentropy:0.5863,  val_loss:0.5863,  \n",
      "....................................................................................................\n",
      "Epoch: 2500, accuracy:0.6717,  binary_crossentropy:0.5749,  loss:0.5749,  val_accuracy:0.6750,  val_binary_crossentropy:0.5846,  val_loss:0.5846,  \n",
      "....................................................................................................\n",
      "Epoch: 2600, accuracy:0.6762,  binary_crossentropy:0.5737,  loss:0.5737,  val_accuracy:0.6730,  val_binary_crossentropy:0.5849,  val_loss:0.5849,  \n",
      "....................................................................................................\n",
      "Epoch: 2700, accuracy:0.6785,  binary_crossentropy:0.5731,  loss:0.5731,  val_accuracy:0.6740,  val_binary_crossentropy:0.5849,  val_loss:0.5849,  \n",
      "....................................................................................................\n",
      "Epoch: 2800, accuracy:0.6750,  binary_crossentropy:0.5729,  loss:0.5729,  val_accuracy:0.6780,  val_binary_crossentropy:0.5841,  val_loss:0.5841,  \n"
     ]
    },
    {
     "name": "stdout",
     "output_type": "stream",
     "text": [
      "....................................................................................................\n",
      "Epoch: 2900, accuracy:0.6804,  binary_crossentropy:0.5723,  loss:0.5723,  val_accuracy:0.6700,  val_binary_crossentropy:0.5847,  val_loss:0.5847,  \n",
      "....................................................................................................\n",
      "Epoch: 3000, accuracy:0.6791,  binary_crossentropy:0.5714,  loss:0.5714,  val_accuracy:0.6670,  val_binary_crossentropy:0.5853,  val_loss:0.5853,  \n",
      "....................................................................................................\n",
      "Epoch: 3100, accuracy:0.6810,  binary_crossentropy:0.5715,  loss:0.5715,  val_accuracy:0.6840,  val_binary_crossentropy:0.5836,  val_loss:0.5836,  \n",
      "....................................................................................................\n",
      "Epoch: 3200, accuracy:0.6773,  binary_crossentropy:0.5709,  loss:0.5709,  val_accuracy:0.6830,  val_binary_crossentropy:0.5832,  val_loss:0.5832,  \n",
      "....................................................................................................\n",
      "Epoch: 3300, accuracy:0.6836,  binary_crossentropy:0.5704,  loss:0.5704,  val_accuracy:0.6670,  val_binary_crossentropy:0.5843,  val_loss:0.5843,  \n",
      "....................................................................................................\n",
      "Epoch: 3400, accuracy:0.6827,  binary_crossentropy:0.5700,  loss:0.5700,  val_accuracy:0.6780,  val_binary_crossentropy:0.5837,  val_loss:0.5837,  \n",
      "....................................................................................................\n",
      "Epoch: 3500, accuracy:0.6830,  binary_crossentropy:0.5695,  loss:0.5695,  val_accuracy:0.6750,  val_binary_crossentropy:0.5839,  val_loss:0.5839,  \n",
      "....................................................................................................\n",
      "Epoch: 3600, accuracy:0.6757,  binary_crossentropy:0.5695,  loss:0.5695,  val_accuracy:0.6860,  val_binary_crossentropy:0.5824,  val_loss:0.5824,  \n",
      "....................................................................................................\n",
      "Epoch: 3700, accuracy:0.6826,  binary_crossentropy:0.5691,  loss:0.5691,  val_accuracy:0.6730,  val_binary_crossentropy:0.5838,  val_loss:0.5838,  \n",
      "....................................................................................................\n",
      "Epoch: 3800, accuracy:0.6823,  binary_crossentropy:0.5686,  loss:0.5686,  val_accuracy:0.6850,  val_binary_crossentropy:0.5825,  val_loss:0.5825,  \n",
      "....................................................................................................\n",
      "Epoch: 3900, accuracy:0.6839,  binary_crossentropy:0.5683,  loss:0.5683,  val_accuracy:0.6820,  val_binary_crossentropy:0.5829,  val_loss:0.5829,  \n",
      "....................................................................................................\n",
      "Epoch: 4000, accuracy:0.6838,  binary_crossentropy:0.5681,  loss:0.5681,  val_accuracy:0.6760,  val_binary_crossentropy:0.5831,  val_loss:0.5831,  \n",
      "....................................................................................................\n",
      "Epoch: 4100, accuracy:0.6865,  binary_crossentropy:0.5678,  loss:0.5678,  val_accuracy:0.6760,  val_binary_crossentropy:0.5829,  val_loss:0.5829,  \n",
      "....................................................................................................\n",
      "Epoch: 4200, accuracy:0.6827,  binary_crossentropy:0.5676,  loss:0.5676,  val_accuracy:0.6800,  val_binary_crossentropy:0.5827,  val_loss:0.5827,  \n",
      ".............."
     ]
    }
   ],
   "source": [
    "size_history = {}\n",
    "size_history['Tiny'] = compile_and_fit(tiny_model, 'sizes/Tiny')"
   ]
  },
  {
   "cell_type": "code",
   "execution_count": 18,
   "metadata": {},
   "outputs": [
    {
     "data": {
      "text/plain": [
       "(0.5, 0.7)"
      ]
     },
     "execution_count": 18,
     "metadata": {},
     "output_type": "execute_result"
    },
    {
     "data": {
      "image/png": "[encoded data removed]",
      "text/plain": [
       "<Figure size 432x288 with 1 Axes>"
      ]
     },
     "metadata": {
      "needs_background": "light"
     },
     "output_type": "display_data"
    }
   ],
   "source": [
    "plotter = HistoryPlotter(metric='binary_crossentropy', smoothing_std=10)\n",
    "plotter.plot(size_history)\n",
    "plt.ylim([0.5,0.7])"
   ]
  },
  {
   "cell_type": "code",
   "execution_count": 19,
   "metadata": {},
   "outputs": [
    {
     "name": "stdout",
     "output_type": "stream",
     "text": [
      "Model: \"sequential_1\"\n",
      "_________________________________________________________________\n",
      "Layer (type)                 Output Shape              Param #   \n",
      "=================================================================\n",
      "dense_2 (Dense)              (None, 16)                464       \n",
      "_________________________________________________________________\n",
      "dense_3 (Dense)              (None, 16)                272       \n",
      "_________________________________________________________________\n",
      "dense_4 (Dense)              (None, 1)                 17        \n",
      "=================================================================\n",
      "Total params: 753\n",
      "Trainable params: 753\n",
      "Non-trainable params: 0\n",
      "_________________________________________________________________\n",
      "WARNING:tensorflow:Callbacks method `on_train_batch_end` is slow compared to the batch time (batch time: 0.0030s vs `on_train_batch_end` time: 0.4238s). Check your callbacks.\n",
      "\n",
      "Epoch: 0, accuracy:0.4785,  binary_crossentropy:1.0605,  loss:1.0605,  val_accuracy:0.4740,  val_binary_crossentropy:0.8078,  val_loss:0.8078,  \n",
      "....................................................................................................\n",
      "Epoch: 100, accuracy:0.6192,  binary_crossentropy:0.6197,  loss:0.6197,  val_accuracy:0.5840,  val_binary_crossentropy:0.6161,  val_loss:0.6161,  \n",
      "....................................................................................................\n",
      "Epoch: 200, accuracy:0.6464,  binary_crossentropy:0.5993,  loss:0.5993,  val_accuracy:0.6450,  val_binary_crossentropy:0.5922,  val_loss:0.5922,  \n",
      "....................................................................................................\n",
      "Epoch: 300, accuracy:0.6662,  binary_crossentropy:0.5842,  loss:0.5842,  val_accuracy:0.6530,  val_binary_crossentropy:0.5865,  val_loss:0.5865,  \n",
      "....................................................................................................\n",
      "Epoch: 400, accuracy:0.6763,  binary_crossentropy:0.5748,  loss:0.5748,  val_accuracy:0.6680,  val_binary_crossentropy:0.5845,  val_loss:0.5845,  \n",
      "....................................................................................................\n",
      "Epoch: 500, accuracy:0.6816,  binary_crossentropy:0.5686,  loss:0.5686,  val_accuracy:0.6780,  val_binary_crossentropy:0.5846,  val_loss:0.5846,  \n",
      "....................................................................................................\n",
      "Epoch: 600, accuracy:0.6898,  binary_crossentropy:0.5642,  loss:0.5642,  val_accuracy:0.6500,  val_binary_crossentropy:0.5952,  val_loss:0.5952,  \n",
      ".................."
     ]
    }
   ],
   "source": [
    "# small model\n",
    "small_model = tf.keras.Sequential([Dense(16, activation='elu', input_shape=(FEATURES,)),\n",
    "                                  Dense(16, activation='elu'),\n",
    "                                  Dense(1)])\n",
    "size_history['Small'] = compile_and_fit(small_model,'sizes/Small')"
   ]
  },
  {
   "cell_type": "code",
   "execution_count": 20,
   "metadata": {},
   "outputs": [
    {
     "name": "stdout",
     "output_type": "stream",
     "text": [
      "Model: \"sequential_2\"\n",
      "_________________________________________________________________\n",
      "Layer (type)                 Output Shape              Param #   \n",
      "=================================================================\n",
      "dense_5 (Dense)              (None, 64)                1856      \n",
      "_________________________________________________________________\n",
      "dense_6 (Dense)              (None, 64)                4160      \n",
      "_________________________________________________________________\n",
      "dense_7 (Dense)              (None, 64)                4160      \n",
      "_________________________________________________________________\n",
      "dense_8 (Dense)              (None, 1)                 65        \n",
      "=================================================================\n",
      "Total params: 10,241\n",
      "Trainable params: 10,241\n",
      "Non-trainable params: 0\n",
      "_________________________________________________________________\n",
      "WARNING:tensorflow:Callbacks method `on_train_batch_end` is slow compared to the batch time (batch time: 0.0020s vs `on_train_batch_end` time: 0.3537s). Check your callbacks.\n",
      "\n",
      "Epoch: 0, accuracy:0.4882,  binary_crossentropy:0.6985,  loss:0.6985,  val_accuracy:0.4700,  val_binary_crossentropy:0.6837,  val_loss:0.6837,  \n",
      "....................................................................................................\n",
      "Epoch: 100, accuracy:0.7140,  binary_crossentropy:0.5288,  loss:0.5288,  val_accuracy:0.6780,  val_binary_crossentropy:0.5962,  val_loss:0.5962,  \n",
      "....................................................................................................\n",
      "Epoch: 200, accuracy:0.7849,  binary_crossentropy:0.4300,  loss:0.4300,  val_accuracy:0.6370,  val_binary_crossentropy:0.6964,  val_loss:0.6964,  \n",
      "................................................................."
     ]
    }
   ],
   "source": [
    "# medium model\n",
    "medium_model = tf.keras.Sequential([\n",
    "    Dense(64, activation='elu', input_shape=(FEATURES,)),\n",
    "    Dense(64, activation='elu'),\n",
    "    Dense(64, activation='elu'),\n",
    "    Dense(1)\n",
    "])\n",
    "\n",
    "size_history['Medium']  = compile_and_fit(medium_model, \"sizes/Medium\")"
   ]
  },
  {
   "cell_type": "code",
   "execution_count": 21,
   "metadata": {},
   "outputs": [
    {
     "name": "stdout",
     "output_type": "stream",
     "text": [
      "Model: \"sequential_3\"\n",
      "_________________________________________________________________\n",
      "Layer (type)                 Output Shape              Param #   \n",
      "=================================================================\n",
      "dense_9 (Dense)              (None, 512)               14848     \n",
      "_________________________________________________________________\n",
      "dense_10 (Dense)             (None, 512)               262656    \n",
      "_________________________________________________________________\n",
      "dense_11 (Dense)             (None, 512)               262656    \n",
      "_________________________________________________________________\n",
      "dense_12 (Dense)             (None, 512)               262656    \n",
      "_________________________________________________________________\n",
      "dense_13 (Dense)             (None, 1)                 513       \n",
      "=================================================================\n",
      "Total params: 803,329\n",
      "Trainable params: 803,329\n",
      "Non-trainable params: 0\n",
      "_________________________________________________________________\n",
      "WARNING:tensorflow:Callbacks method `on_train_batch_end` is slow compared to the batch time (batch time: 0.0030s vs `on_train_batch_end` time: 0.5012s). Check your callbacks.\n",
      "\n",
      "Epoch: 0, accuracy:0.5054,  binary_crossentropy:0.8067,  loss:0.8067,  val_accuracy:0.5560,  val_binary_crossentropy:0.6741,  val_loss:0.6741,  \n",
      "....................................................................................................\n",
      "Epoch: 100, accuracy:1.0000,  binary_crossentropy:0.0024,  loss:0.0024,  val_accuracy:0.6470,  val_binary_crossentropy:1.8695,  val_loss:1.8695,  \n",
      "....................................................................................................\n",
      "Epoch: 200, accuracy:1.0000,  binary_crossentropy:0.0001,  loss:0.0001,  val_accuracy:0.6440,  val_binary_crossentropy:2.5661,  val_loss:2.5661,  \n",
      "............................"
     ]
    }
   ],
   "source": [
    "# large model\n",
    "large_model = tf.keras.Sequential([\n",
    "    Dense(512, activation='elu', input_shape=(FEATURES,)),\n",
    "    Dense(512, activation='elu'),\n",
    "    Dense(512, activation='elu'),\n",
    "    Dense(512, activation='elu'),\n",
    "    Dense(1)\n",
    "])\n",
    "\n",
    "size_history['large'] = compile_and_fit(large_model, \"sizes/large\")"
   ]
  },
  {
   "cell_type": "code",
   "execution_count": 22,
   "metadata": {},
   "outputs": [
    {
     "data": {
      "text/plain": [
       "Text(0.5, 0, 'Epochs [Log Scale]')"
      ]
     },
     "execution_count": 22,
     "metadata": {},
     "output_type": "execute_result"
    },
    {
     "data": {
      "image/png": "[encoded data removed]",
      "text/plain": [
       "<Figure size 432x288 with 1 Axes>"
      ]
     },
     "metadata": {
      "needs_background": "light"
     },
     "output_type": "display_data"
    }
   ],
   "source": [
    "plotter.plot(size_history)\n",
    "a = plt.xscale('log')\n",
    "plt.xlim([5, max(plt.xlim())])\n",
    "plt.ylim([0.5, 0.7])\n",
    "plt.xlabel(\"Epochs [Log Scale]\")\n",
    "\n",
    "plt.Text(0.5, 0, 'Epochs [Log Scale]')"
   ]
  },
  {
   "cell_type": "code",
   "execution_count": 23,
   "metadata": {},
   "outputs": [],
   "source": [
    "# view in tensorboard\n",
    "# Load the TensorBoard notebook extension\n",
    "# %load_ext tensorboard\n",
    "\n",
    "# Open an embedded TensorBoard viewer\n",
    "# %tensorboard --logdir {logdir}/sizes"
   ]
  },
  {
   "cell_type": "code",
   "execution_count": 24,
   "metadata": {},
   "outputs": [
    {
     "data": {
      "text/html": [
       "\n",
       "        <iframe\n",
       "            width=\"100%\"\n",
       "            height=\"800px\"\n",
       "            src=\"https://tensorboard.dev/experiment/vW7jmmF9TmKmy3rbheMQpw/#scalars&_smoothingWeight=0.97\"\n",
       "            frameborder=\"0\"\n",
       "            allowfullscreen\n",
       "        ></iframe>\n",
       "        "
      ],
      "text/plain": [
       "<IPython.lib.display.IFrame at 0x1ff0ae49370>"
      ]
     },
     "execution_count": 24,
     "metadata": {},
     "output_type": "execute_result"
    }
   ],
   "source": [
    "display.IFrame(\n",
    "    src=\"https://tensorboard.dev/experiment/vW7jmmF9TmKmy3rbheMQpw/#scalars&_smoothingWeight=0.97\",\n",
    "    width=\"100%\", height=\"800px\")"
   ]
  },
  {
   "cell_type": "code",
   "execution_count": 25,
   "metadata": {},
   "outputs": [],
   "source": [
    "# tensorboard dev upload --logdir {logdir}/sizes"
   ]
  },
  {
   "cell_type": "markdown",
   "metadata": {},
   "source": [
    "# Strategies to prevent overfitting"
   ]
  },
  {
   "cell_type": "markdown",
   "metadata": {},
   "source": [
    "### 1-regularization"
   ]
  },
  {
   "cell_type": "code",
   "execution_count": 26,
   "metadata": {},
   "outputs": [],
   "source": [
    "shutil.rmtree(logdir/'regularizers/Tiny', ignore_errors=True)\n",
    "shutil.copytree(logdir/'sizes/Tiny', logdir/'regularizers/Tiny')\n",
    "\n",
    "PurePosixPath('/tmp/tmpnnkr5005/tensorboard_logs/regularizers/Tiny')\n",
    "\n",
    "regularizer_histories = {}\n",
    "regularizer_histories['Tiny'] = size_history['Tiny']"
   ]
  },
  {
   "cell_type": "code",
   "execution_count": 27,
   "metadata": {},
   "outputs": [
    {
     "name": "stdout",
     "output_type": "stream",
     "text": [
      "Model: \"sequential_4\"\n",
      "_________________________________________________________________\n",
      "Layer (type)                 Output Shape              Param #   \n",
      "=================================================================\n",
      "dense_14 (Dense)             (None, 512)               14848     \n",
      "_________________________________________________________________\n",
      "dense_15 (Dense)             (None, 512)               262656    \n",
      "_________________________________________________________________\n",
      "dense_16 (Dense)             (None, 512)               262656    \n",
      "_________________________________________________________________\n",
      "dense_17 (Dense)             (None, 512)               262656    \n",
      "_________________________________________________________________\n",
      "dense_18 (Dense)             (None, 1)                 513       \n",
      "=================================================================\n",
      "Total params: 803,329\n",
      "Trainable params: 803,329\n",
      "Non-trainable params: 0\n",
      "_________________________________________________________________\n",
      "WARNING:tensorflow:Callbacks method `on_train_batch_end` is slow compared to the batch time (batch time: 0.0030s vs `on_train_batch_end` time: 0.5565s). Check your callbacks.\n",
      "\n",
      "Epoch: 0, accuracy:0.5116,  binary_crossentropy:0.8232,  loss:2.3490,  val_accuracy:0.4710,  val_binary_crossentropy:0.6890,  val_loss:2.1397,  \n",
      "....................................................................................................\n",
      "Epoch: 100, accuracy:0.6546,  binary_crossentropy:0.5971,  loss:0.6200,  val_accuracy:0.6430,  val_binary_crossentropy:0.5855,  val_loss:0.6084,  \n",
      "....................................................................................................\n",
      "Epoch: 200, accuracy:0.6742,  binary_crossentropy:0.5796,  loss:0.6026,  val_accuracy:0.6640,  val_binary_crossentropy:0.5774,  val_loss:0.6004,  \n",
      "....................................................................................................\n",
      "Epoch: 300, accuracy:0.6872,  binary_crossentropy:0.5737,  loss:0.5982,  val_accuracy:0.6720,  val_binary_crossentropy:0.5747,  val_loss:0.5989,  \n",
      "....................................................................................................\n",
      "Epoch: 400, accuracy:0.6982,  binary_crossentropy:0.5614,  loss:0.5868,  val_accuracy:0.6810,  val_binary_crossentropy:0.5750,  val_loss:0.6005,  \n",
      "....................................................................................................\n",
      "Epoch: 500, accuracy:0.7032,  binary_crossentropy:0.5562,  loss:0.5839,  val_accuracy:0.6810,  val_binary_crossentropy:0.5758,  val_loss:0.6035,  \n",
      "....................................................................................................\n",
      "Epoch: 600, accuracy:0.7071,  binary_crossentropy:0.5499,  loss:0.5778,  val_accuracy:0.6430,  val_binary_crossentropy:0.5968,  val_loss:0.6248,  \n",
      "............................................................."
     ]
    }
   ],
   "source": [
    "l2_model = tf.keras.Sequential([\n",
    "    Dense(512, activation='elu',kernel_regularizer=l2(0.001),\n",
    "          input_shape=(FEATURES,)),\n",
    "    Dense(512, activation='elu',kernel_regularizer=l2(0.001)),\n",
    "    Dense(512, activation='elu',kernel_regularizer=l2(0.001)),\n",
    "    Dense(512, activation='elu',kernel_regularizer=l2(0.001)),\n",
    "    Dense(1)\n",
    "])\n",
    "\n",
    "regularizer_histories['l2'] = compile_and_fit(l2_model, \"regularizers/l2\")"
   ]
  },
  {
   "cell_type": "code",
   "execution_count": 28,
   "metadata": {},
   "outputs": [
    {
     "ename": "AttributeError",
     "evalue": "'HistoryPlotter' object has no attribute 'plt'",
     "output_type": "error",
     "traceback": [
      "\u001b[1;31m---------------------------------------------------------------------------\u001b[0m",
      "\u001b[1;31mAttributeError\u001b[0m                            Traceback (most recent call last)",
      "\u001b[1;32m<ipython-input-28-d7265fef5182>\u001b[0m in \u001b[0;36m<module>\u001b[1;34m\u001b[0m\n\u001b[1;32m----> 1\u001b[1;33m \u001b[0mplotter\u001b[0m\u001b[1;33m.\u001b[0m\u001b[0mplt\u001b[0m\u001b[1;33m(\u001b[0m\u001b[0mregularizer_histories\u001b[0m\u001b[1;33m)\u001b[0m\u001b[1;33m\u001b[0m\u001b[1;33m\u001b[0m\u001b[0m\n\u001b[0m\u001b[0;32m      2\u001b[0m \u001b[0mplt\u001b[0m\u001b[1;33m.\u001b[0m\u001b[0mylim\u001b[0m\u001b[1;33m(\u001b[0m\u001b[1;33m[\u001b[0m\u001b[1;36m0.5\u001b[0m\u001b[1;33m,\u001b[0m\u001b[1;36m0.7\u001b[0m\u001b[1;33m]\u001b[0m\u001b[1;33m)\u001b[0m\u001b[1;33m\u001b[0m\u001b[1;33m\u001b[0m\u001b[0m\n",
      "\u001b[1;31mAttributeError\u001b[0m: 'HistoryPlotter' object has no attribute 'plt'"
     ]
    }
   ],
   "source": [
    "plotter.plt(regularizer_histories)\n",
    "plt.ylim([0.5,0.7])"
   ]
  },
  {
   "cell_type": "code",
   "execution_count": 29,
   "metadata": {},
   "outputs": [],
   "source": [
    "result = l2_model(features)\n",
    "regularization_loss=tf.add_n(l2_model.losses)"
   ]
  },
  {
   "cell_type": "markdown",
   "metadata": {},
   "source": [
    "### 2- dropout"
   ]
  },
  {
   "cell_type": "code",
   "execution_count": 30,
   "metadata": {},
   "outputs": [
    {
     "name": "stdout",
     "output_type": "stream",
     "text": [
      "Model: \"sequential_5\"\n",
      "_________________________________________________________________\n",
      "Layer (type)                 Output Shape              Param #   \n",
      "=================================================================\n",
      "dense_19 (Dense)             (None, 512)               14848     \n",
      "_________________________________________________________________\n",
      "dropout (Dropout)            (None, 512)               0         \n",
      "_________________________________________________________________\n",
      "dense_20 (Dense)             (None, 512)               262656    \n",
      "_________________________________________________________________\n",
      "dropout_1 (Dropout)          (None, 512)               0         \n",
      "_________________________________________________________________\n",
      "dense_21 (Dense)             (None, 512)               262656    \n",
      "_________________________________________________________________\n",
      "dropout_2 (Dropout)          (None, 512)               0         \n",
      "_________________________________________________________________\n",
      "dense_22 (Dense)             (None, 512)               262656    \n",
      "_________________________________________________________________\n",
      "dropout_3 (Dropout)          (None, 512)               0         \n",
      "_________________________________________________________________\n",
      "dense_23 (Dense)             (None, 1)                 513       \n",
      "=================================================================\n",
      "Total params: 803,329\n",
      "Trainable params: 803,329\n",
      "Non-trainable params: 0\n",
      "_________________________________________________________________\n",
      "WARNING:tensorflow:Callbacks method `on_train_batch_end` is slow compared to the batch time (batch time: 0.0040s vs `on_train_batch_end` time: 0.4540s). Check your callbacks.\n",
      "\n",
      "Epoch: 0, accuracy:0.4988,  binary_crossentropy:0.7964,  loss:0.7964,  val_accuracy:0.4960,  val_binary_crossentropy:0.6724,  val_loss:0.6724,  \n",
      "....................................................................................................\n",
      "Epoch: 100, accuracy:0.6651,  binary_crossentropy:0.5956,  loss:0.5956,  val_accuracy:0.6760,  val_binary_crossentropy:0.5760,  val_loss:0.5760,  \n",
      "....................................................................................................\n",
      "Epoch: 200, accuracy:0.6858,  binary_crossentropy:0.5592,  loss:0.5592,  val_accuracy:0.6890,  val_binary_crossentropy:0.5748,  val_loss:0.5748,  \n",
      "....................................................................................................\n",
      "Epoch: 300, accuracy:0.7215,  binary_crossentropy:0.5098,  loss:0.5098,  val_accuracy:0.6850,  val_binary_crossentropy:0.5937,  val_loss:0.5937,  \n",
      "....................................................................................."
     ]
    }
   ],
   "source": [
    "dropout_model = tf.keras.Sequential([\n",
    "    Dense(512, activation='elu', input_shape=(FEATURES,)),\n",
    "    Dropout(0.5),\n",
    "    Dense(512, activation='elu'),\n",
    "    Dropout(0.5),\n",
    "    Dense(512, activation='elu'),\n",
    "    Dropout(0.5),\n",
    "    Dense(512, activation='elu'),\n",
    "    Dropout(0.5),\n",
    "    Dense(1)\n",
    "])\n",
    "\n",
    "regularizer_histories['dropout'] = compile_and_fit(dropout_model, \"regularizers/dropout\")"
   ]
  },
  {
   "cell_type": "code",
   "execution_count": 31,
   "metadata": {},
   "outputs": [
    {
     "data": {
      "text/plain": [
       "(0.5, 0.7)"
      ]
     },
     "execution_count": 31,
     "metadata": {},
     "output_type": "execute_result"
    },
    {
     "data": {
      "image/png": "[encoded data removed]",
      "text/plain": [
       "<Figure size 432x288 with 1 Axes>"
      ]
     },
     "metadata": {
      "needs_background": "light"
     },
     "output_type": "display_data"
    }
   ],
   "source": [
    "plotter.plot(regularizer_histories)\n",
    "plt.ylim([0.5, 0.7])"
   ]
  },
  {
   "cell_type": "markdown",
   "metadata": {},
   "source": [
    "### l2 + dropout"
   ]
  },
  {
   "cell_type": "code",
   "execution_count": 32,
   "metadata": {},
   "outputs": [
    {
     "name": "stdout",
     "output_type": "stream",
     "text": [
      "Model: \"sequential_6\"\n",
      "_________________________________________________________________\n",
      "Layer (type)                 Output Shape              Param #   \n",
      "=================================================================\n",
      "dense_24 (Dense)             (None, 512)               14848     \n",
      "_________________________________________________________________\n",
      "dropout_4 (Dropout)          (None, 512)               0         \n",
      "_________________________________________________________________\n",
      "dense_25 (Dense)             (None, 512)               262656    \n",
      "_________________________________________________________________\n",
      "dropout_5 (Dropout)          (None, 512)               0         \n",
      "_________________________________________________________________\n",
      "dense_26 (Dense)             (None, 512)               262656    \n",
      "_________________________________________________________________\n",
      "dropout_6 (Dropout)          (None, 512)               0         \n",
      "_________________________________________________________________\n",
      "dense_27 (Dense)             (None, 512)               262656    \n",
      "_________________________________________________________________\n",
      "dropout_7 (Dropout)          (None, 512)               0         \n",
      "_________________________________________________________________\n",
      "dense_28 (Dense)             (None, 1)                 513       \n",
      "=================================================================\n",
      "Total params: 803,329\n",
      "Trainable params: 803,329\n",
      "Non-trainable params: 0\n",
      "_________________________________________________________________\n",
      "WARNING:tensorflow:Callbacks method `on_train_batch_end` is slow compared to the batch time (batch time: 0.0030s vs `on_train_batch_end` time: 0.6508s). Check your callbacks.\n",
      "\n",
      "Epoch: 0, accuracy:0.5052,  binary_crossentropy:0.8009,  loss:0.9594,  val_accuracy:0.4940,  val_binary_crossentropy:0.6743,  val_loss:0.8321,  \n",
      "....................................................................................................\n",
      "Epoch: 100, accuracy:0.6415,  binary_crossentropy:0.6068,  loss:0.6351,  val_accuracy:0.6440,  val_binary_crossentropy:0.5902,  val_loss:0.6183,  \n",
      "....................................................................................................\n",
      "Epoch: 200, accuracy:0.6628,  binary_crossentropy:0.5917,  loss:0.6176,  val_accuracy:0.6620,  val_binary_crossentropy:0.5753,  val_loss:0.6012,  \n",
      "....................................................................................................\n",
      "Epoch: 300, accuracy:0.6750,  binary_crossentropy:0.5831,  loss:0.6120,  val_accuracy:0.6840,  val_binary_crossentropy:0.5608,  val_loss:0.5896,  \n",
      "....................................................................................................\n",
      "Epoch: 400, accuracy:0.6797,  binary_crossentropy:0.5738,  loss:0.6047,  val_accuracy:0.6920,  val_binary_crossentropy:0.5598,  val_loss:0.5907,  \n",
      "....................................................................................................\n",
      "Epoch: 500, accuracy:0.6794,  binary_crossentropy:0.5722,  loss:0.6047,  val_accuracy:0.7020,  val_binary_crossentropy:0.5509,  val_loss:0.5833,  \n",
      "....................................................................................................\n",
      "Epoch: 600, accuracy:0.6827,  binary_crossentropy:0.5690,  loss:0.6037,  val_accuracy:0.6950,  val_binary_crossentropy:0.5544,  val_loss:0.5890,  \n",
      "....................................................................................................\n",
      "Epoch: 700, accuracy:0.6887,  binary_crossentropy:0.5584,  loss:0.5953,  val_accuracy:0.6910,  val_binary_crossentropy:0.5486,  val_loss:0.5855,  \n",
      "....................................................................................................\n",
      "Epoch: 800, accuracy:0.6928,  binary_crossentropy:0.5551,  loss:0.5937,  val_accuracy:0.6970,  val_binary_crossentropy:0.5543,  val_loss:0.5929,  \n",
      "....................................................................................................\n",
      "Epoch: 900, accuracy:0.6967,  binary_crossentropy:0.5517,  loss:0.5917,  val_accuracy:0.6950,  val_binary_crossentropy:0.5484,  val_loss:0.5883,  \n",
      "..............."
     ]
    }
   ],
   "source": [
    "combined_model = tf.keras.Sequential([\n",
    "    Dense(512, kernel_regularizer=l2(0.0001),\n",
    "                 activation='elu', input_shape=(FEATURES,)),\n",
    "    Dropout(0.5),\n",
    "    Dense(512, kernel_regularizer=l2(0.0001),\n",
    "                 activation='elu'),\n",
    "    Dropout(0.5),\n",
    "    Dense(512, kernel_regularizer=l2(0.0001),\n",
    "                 activation='elu'),\n",
    "    Dropout(0.5),\n",
    "    Dense(512, kernel_regularizer=l2(0.0001),\n",
    "                 activation='elu'),\n",
    "    Dropout(0.5),\n",
    "    Dense(1)\n",
    "])\n",
    "\n",
    "regularizer_histories['combined'] = compile_and_fit(combined_model, \"regularizers/combined\")"
   ]
  },
  {
   "cell_type": "code",
   "execution_count": 33,
   "metadata": {},
   "outputs": [
    {
     "data": {
      "text/plain": [
       "(0.5, 0.7)"
      ]
     },
     "execution_count": 33,
     "metadata": {},
     "output_type": "execute_result"
    },
    {
     "data": {
      "image/png": "[encoded data removed]",
      "text/plain": [
       "<Figure size 432x288 with 1 Axes>"
      ]
     },
     "metadata": {
      "needs_background": "light"
     },
     "output_type": "display_data"
    }
   ],
   "source": [
    "plotter.plot(regularizer_histories)\n",
    "plt.ylim([0.5, 0.7])"
   ]
  },
  {
   "cell_type": "code",
   "execution_count": 34,
   "metadata": {},
   "outputs": [],
   "source": [
    "# tensorboard\n",
    "# %tensorboard --logdir {logdir}/regularizers"
   ]
  },
  {
   "cell_type": "code",
   "execution_count": 35,
   "metadata": {},
   "outputs": [
    {
     "data": {
      "text/html": [
       "\n",
       "        <iframe\n",
       "            width=\"100%\"\n",
       "            height=\"800px\"\n",
       "            src=\"https://tensorboard.dev/experiment/fGInKDo8TXes1z7HQku9mw/#scalars&_smoothingWeight=0.97\"\n",
       "            frameborder=\"0\"\n",
       "            allowfullscreen\n",
       "        ></iframe>\n",
       "        "
      ],
      "text/plain": [
       "<IPython.lib.display.IFrame at 0x200b23b0c70>"
      ]
     },
     "execution_count": 35,
     "metadata": {},
     "output_type": "execute_result"
    }
   ],
   "source": [
    "display.IFrame(\n",
    "    src=\"https://tensorboard.dev/experiment/fGInKDo8TXes1z7HQku9mw/#scalars&_smoothingWeight=0.97\",\n",
    "    width = \"100%\",\n",
    "    height=\"800px\")"
   ]
  },
  {
   "cell_type": "markdown",
   "metadata": {},
   "source": [
    "efficient ways to prevent overfitting:\n",
    "- Get more training data.\n",
    "- Reduce the capacity of the network.\n",
    "- Add weight regularization.\n",
    "- Add dropout.\n",
    "- data-augmentation\n",
    "- batch normalization"
   ]
  },
  {
   "cell_type": "code",
   "execution_count": null,
   "metadata": {},
   "outputs": [],
   "source": []
  }
 ],
 "metadata": {
  "kernelspec": {
   "display_name": "Python 3",
   "language": "python",
   "name": "python3"
  },
  "language_info": {
   "codemirror_mode": {
    "name": "ipython",
    "version": 3
   },
   "file_extension": ".py",
   "mimetype": "text/x-python",
   "name": "python",
   "nbconvert_exporter": "python",
   "pygments_lexer": "ipython3",
   "version": "3.8.3"
  }
 },
 "nbformat": 4,
 "nbformat_minor": 4
}
