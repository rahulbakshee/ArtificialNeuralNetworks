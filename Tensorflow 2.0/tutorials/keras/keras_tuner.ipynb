{
 "cells": [
  {
   "cell_type": "markdown",
   "metadata": {},
   "source": [
    "# Introduction to the Keras Tuner\n",
    "https://www.tensorflow.org/tutorials/keras/keras_tuner"
   ]
  },
  {
   "cell_type": "code",
   "execution_count": 2,
   "metadata": {},
   "outputs": [
    {
     "name": "stdout",
     "output_type": "stream",
     "text": [
      "2.3.0\n"
     ]
    }
   ],
   "source": [
    "import tensorflow as tf\n",
    "from tensorflow import keras\n",
    "print(tf.__version__)\n",
    "import IPython\n",
    "import kerastuner as kt"
   ]
  },
  {
   "cell_type": "code",
   "execution_count": 4,
   "metadata": {},
   "outputs": [],
   "source": [
    "(img_train, label_train), (img_test, label_test) = keras.datasets.fashion_mnist.load_data()\n",
    "\n",
    "# Normalize pixel values between 0 and 1\n",
    "img_train = img_train.astype('float32') / 255.0\n",
    "img_test = img_test.astype('float32') / 255.0"
   ]
  },
  {
   "cell_type": "code",
   "execution_count": 6,
   "metadata": {},
   "outputs": [],
   "source": [
    "def model_builder(hp):\n",
    "    model = keras.Sequential()\n",
    "    model.add(keras.layers.Flatten(input_shape=(28, 28)))\n",
    "\n",
    "    # Tune the number of units in the first Dense layer\n",
    "    # Choose an optimal value between 32-512\n",
    "    hp_units = hp.Int('units', min_value = 32, max_value = 512, step = 32)\n",
    "    model.add(keras.layers.Dense(units = hp_units, activation = 'relu'))\n",
    "    model.add(keras.layers.Dense(10))\n",
    "\n",
    "    # Tune the learning rate for the optimizer \n",
    "    # Choose an optimal value from 0.01, 0.001, or 0.0001\n",
    "    hp_learning_rate = hp.Choice('learning_rate', values = [1e-2, 1e-3, 1e-4]) \n",
    "\n",
    "    model.compile(optimizer = keras.optimizers.Adam(learning_rate = hp_learning_rate),\n",
    "                loss = keras.losses.SparseCategoricalCrossentropy(from_logits = True), \n",
    "                metrics = ['accuracy'])\n",
    "\n",
    "    return model"
   ]
  },
  {
   "cell_type": "code",
   "execution_count": 7,
   "metadata": {},
   "outputs": [],
   "source": [
    "tuner = kt.Hyperband(model_builder,\n",
    "                     objective = 'val_accuracy', \n",
    "                     max_epochs = 10,\n",
    "                     factor = 3,\n",
    "                     directory = 'my_dir',\n",
    "                     project_name = 'intro_to_kt')                       "
   ]
  },
  {
   "cell_type": "code",
   "execution_count": 9,
   "metadata": {},
   "outputs": [],
   "source": [
    "class ClearTrainingOutput(tf.keras.callbacks.Callback):\n",
    "    def on_train_end(*args, **kwargs):\n",
    "        IPython.display.clear_output(wait = True)"
   ]
  },
  {
   "cell_type": "code",
   "execution_count": 10,
   "metadata": {},
   "outputs": [
    {
     "data": {
      "text/html": [
       "<span style=\"color:#4527A0\"><h1 style=\"font-size:18px\">Trial complete</h1></span>"
      ],
      "text/plain": [
       "<IPython.core.display.HTML object>"
      ]
     },
     "metadata": {},
     "output_type": "display_data"
    },
    {
     "data": {
      "text/html": [
       "<span style=\"color:#4527A0\"><h1 style=\"font-size:18px\">Trial summary</h1></span>"
      ],
      "text/plain": [
       "<IPython.core.display.HTML object>"
      ]
     },
     "metadata": {},
     "output_type": "display_data"
    },
    {
     "data": {
      "text/html": [
       "<span style=\"color:cyan\"> |-Trial ID: e7978ea547f793e8f9e37b54a0ec24ce</span>"
      ],
      "text/plain": [
       "<IPython.core.display.HTML object>"
      ]
     },
     "metadata": {},
     "output_type": "display_data"
    },
    {
     "data": {
      "text/html": [
       "<span style=\"color:cyan\"> |-Score: 0.8501999974250793</span>"
      ],
      "text/plain": [
       "<IPython.core.display.HTML object>"
      ]
     },
     "metadata": {},
     "output_type": "display_data"
    },
    {
     "data": {
      "text/html": [
       "<span style=\"color:cyan\"> |-Best step: 0</span>"
      ],
      "text/plain": [
       "<IPython.core.display.HTML object>"
      ]
     },
     "metadata": {},
     "output_type": "display_data"
    },
    {
     "data": {
      "text/html": [
       "<span style=\"color:#7E57C2\"><h2 style=\"font-size:16px\">Hyperparameters:</h2></span>"
      ],
      "text/plain": [
       "<IPython.core.display.HTML object>"
      ]
     },
     "metadata": {},
     "output_type": "display_data"
    },
    {
     "data": {
      "text/html": [
       "<span style=\"color:cyan\"> |-learning_rate: 0.01</span>"
      ],
      "text/plain": [
       "<IPython.core.display.HTML object>"
      ]
     },
     "metadata": {},
     "output_type": "display_data"
    },
    {
     "data": {
      "text/html": [
       "<span style=\"color:blue\"> |-tuner/bracket: 0</span>"
      ],
      "text/plain": [
       "<IPython.core.display.HTML object>"
      ]
     },
     "metadata": {},
     "output_type": "display_data"
    },
    {
     "data": {
      "text/html": [
       "<span style=\"color:cyan\"> |-tuner/epochs: 10</span>"
      ],
      "text/plain": [
       "<IPython.core.display.HTML object>"
      ]
     },
     "metadata": {},
     "output_type": "display_data"
    },
    {
     "data": {
      "text/html": [
       "<span style=\"color:blue\"> |-tuner/initial_epoch: 0</span>"
      ],
      "text/plain": [
       "<IPython.core.display.HTML object>"
      ]
     },
     "metadata": {},
     "output_type": "display_data"
    },
    {
     "data": {
      "text/html": [
       "<span style=\"color:cyan\"> |-tuner/round: 0</span>"
      ],
      "text/plain": [
       "<IPython.core.display.HTML object>"
      ]
     },
     "metadata": {},
     "output_type": "display_data"
    },
    {
     "data": {
      "text/html": [
       "<span style=\"color:blue\"> |-units: 160</span>"
      ],
      "text/plain": [
       "<IPython.core.display.HTML object>"
      ]
     },
     "metadata": {},
     "output_type": "display_data"
    },
    {
     "name": "stdout",
     "output_type": "stream",
     "text": [
      "INFO:tensorflow:Oracle triggered exit\n",
      "\n",
      "The hyperparameter search is complete. The optimal number of units in the first densely-connected\n",
      "layer is 480 and the optimal learning rate for the optimizer\n",
      "is 0.001.\n",
      "\n"
     ]
    }
   ],
   "source": [
    "tuner.search(img_train, label_train, epochs = 10, validation_data = (img_test, label_test), callbacks = [ClearTrainingOutput()])\n",
    "\n",
    "# Get the optimal hyperparameters\n",
    "best_hps = tuner.get_best_hyperparameters(num_trials = 1)[0]\n",
    "\n",
    "print(f\"\"\"\n",
    "The hyperparameter search is complete. The optimal number of units in the first densely-connected\n",
    "layer is {best_hps.get('units')} and the optimal learning rate for the optimizer\n",
    "is {best_hps.get('learning_rate')}.\n",
    "\"\"\")"
   ]
  },
  {
   "cell_type": "code",
   "execution_count": 11,
   "metadata": {
    "scrolled": true
   },
   "outputs": [
    {
     "name": "stdout",
     "output_type": "stream",
     "text": [
      "Epoch 1/10\n",
      "1875/1875 [==============================] - ETA: 1s - loss: 2.3452 - accuracy: 0.12 - ETA: 1s - loss: 1.0063 - accuracy: 0.66 - ETA: 1s - loss: 0.8308 - accuracy: 0.71 - ETA: 1s - loss: 0.7519 - accuracy: 0.74 - ETA: 1s - loss: 0.7094 - accuracy: 0.76 - ETA: 1s - loss: 0.6717 - accuracy: 0.77 - ETA: 1s - loss: 0.6482 - accuracy: 0.77 - ETA: 1s - loss: 0.6324 - accuracy: 0.78 - ETA: 1s - loss: 0.6196 - accuracy: 0.78 - ETA: 1s - loss: 0.6034 - accuracy: 0.79 - ETA: 1s - loss: 0.5923 - accuracy: 0.79 - ETA: 1s - loss: 0.5838 - accuracy: 0.79 - ETA: 1s - loss: 0.5756 - accuracy: 0.79 - ETA: 1s - loss: 0.5665 - accuracy: 0.80 - ETA: 0s - loss: 0.5584 - accuracy: 0.80 - ETA: 0s - loss: 0.5499 - accuracy: 0.80 - ETA: 0s - loss: 0.5441 - accuracy: 0.80 - ETA: 0s - loss: 0.5374 - accuracy: 0.81 - ETA: 0s - loss: 0.5339 - accuracy: 0.81 - ETA: 0s - loss: 0.5263 - accuracy: 0.81 - ETA: 0s - loss: 0.5228 - accuracy: 0.81 - ETA: 0s - loss: 0.5163 - accuracy: 0.81 - ETA: 0s - loss: 0.5125 - accuracy: 0.81 - ETA: 0s - loss: 0.5094 - accuracy: 0.81 - ETA: 0s - loss: 0.5050 - accuracy: 0.82 - ETA: 0s - loss: 0.5017 - accuracy: 0.82 - ETA: 0s - loss: 0.4985 - accuracy: 0.82 - ETA: 0s - loss: 0.4950 - accuracy: 0.82 - ETA: 0s - loss: 0.4929 - accuracy: 0.82 - ETA: 0s - loss: 0.4895 - accuracy: 0.82 - ETA: 0s - loss: 0.4853 - accuracy: 0.82 - ETA: 0s - loss: 0.4833 - accuracy: 0.82 - ETA: 0s - loss: 0.4796 - accuracy: 0.82 - ETA: 0s - loss: 0.4764 - accuracy: 0.83 - 2s 1ms/step - loss: 0.4744 - accuracy: 0.8316 - val_loss: 0.4062 - val_accuracy: 0.8515\n",
      "Epoch 2/10\n",
      "1875/1875 [==============================] - ETA: 1s - loss: 0.3836 - accuracy: 0.84 - ETA: 1s - loss: 0.3623 - accuracy: 0.87 - ETA: 1s - loss: 0.3603 - accuracy: 0.87 - ETA: 1s - loss: 0.3656 - accuracy: 0.86 - ETA: 1s - loss: 0.3651 - accuracy: 0.86 - ETA: 1s - loss: 0.3690 - accuracy: 0.86 - ETA: 1s - loss: 0.3691 - accuracy: 0.86 - ETA: 1s - loss: 0.3720 - accuracy: 0.86 - ETA: 1s - loss: 0.3682 - accuracy: 0.86 - ETA: 1s - loss: 0.3697 - accuracy: 0.86 - ETA: 1s - loss: 0.3689 - accuracy: 0.86 - ETA: 1s - loss: 0.3675 - accuracy: 0.86 - ETA: 1s - loss: 0.3660 - accuracy: 0.86 - ETA: 1s - loss: 0.3669 - accuracy: 0.86 - ETA: 1s - loss: 0.3694 - accuracy: 0.86 - ETA: 0s - loss: 0.3675 - accuracy: 0.86 - ETA: 0s - loss: 0.3688 - accuracy: 0.86 - ETA: 0s - loss: 0.3690 - accuracy: 0.86 - ETA: 0s - loss: 0.3673 - accuracy: 0.86 - ETA: 0s - loss: 0.3649 - accuracy: 0.86 - ETA: 0s - loss: 0.3650 - accuracy: 0.86 - ETA: 0s - loss: 0.3652 - accuracy: 0.86 - ETA: 0s - loss: 0.3635 - accuracy: 0.86 - ETA: 0s - loss: 0.3645 - accuracy: 0.86 - ETA: 0s - loss: 0.3624 - accuracy: 0.86 - ETA: 0s - loss: 0.3616 - accuracy: 0.86 - ETA: 0s - loss: 0.3608 - accuracy: 0.86 - ETA: 0s - loss: 0.3605 - accuracy: 0.86 - ETA: 0s - loss: 0.3599 - accuracy: 0.86 - ETA: 0s - loss: 0.3602 - accuracy: 0.86 - ETA: 0s - loss: 0.3603 - accuracy: 0.86 - ETA: 0s - loss: 0.3599 - accuracy: 0.86 - ETA: 0s - loss: 0.3600 - accuracy: 0.86 - ETA: 0s - loss: 0.3590 - accuracy: 0.86 - ETA: 0s - loss: 0.3592 - accuracy: 0.86 - 2s 1ms/step - loss: 0.3598 - accuracy: 0.8681 - val_loss: 0.3677 - val_accuracy: 0.8663\n",
      "Epoch 3/10\n",
      "1875/1875 [==============================] - ETA: 1s - loss: 0.3519 - accuracy: 0.84 - ETA: 1s - loss: 0.3209 - accuracy: 0.88 - ETA: 1s - loss: 0.3087 - accuracy: 0.88 - ETA: 1s - loss: 0.3251 - accuracy: 0.88 - ETA: 1s - loss: 0.3210 - accuracy: 0.88 - ETA: 1s - loss: 0.3211 - accuracy: 0.88 - ETA: 1s - loss: 0.3230 - accuracy: 0.88 - ETA: 1s - loss: 0.3217 - accuracy: 0.88 - ETA: 1s - loss: 0.3262 - accuracy: 0.88 - ETA: 1s - loss: 0.3216 - accuracy: 0.88 - ETA: 1s - loss: 0.3229 - accuracy: 0.88 - ETA: 1s - loss: 0.3221 - accuracy: 0.88 - ETA: 1s - loss: 0.3213 - accuracy: 0.88 - ETA: 1s - loss: 0.3226 - accuracy: 0.88 - ETA: 1s - loss: 0.3252 - accuracy: 0.88 - ETA: 1s - loss: 0.3244 - accuracy: 0.88 - ETA: 0s - loss: 0.3246 - accuracy: 0.88 - ETA: 0s - loss: 0.3249 - accuracy: 0.88 - ETA: 0s - loss: 0.3255 - accuracy: 0.88 - ETA: 0s - loss: 0.3242 - accuracy: 0.88 - ETA: 0s - loss: 0.3233 - accuracy: 0.88 - ETA: 0s - loss: 0.3207 - accuracy: 0.88 - ETA: 0s - loss: 0.3195 - accuracy: 0.88 - ETA: 0s - loss: 0.3202 - accuracy: 0.88 - ETA: 0s - loss: 0.3195 - accuracy: 0.88 - ETA: 0s - loss: 0.3204 - accuracy: 0.88 - ETA: 0s - loss: 0.3206 - accuracy: 0.88 - ETA: 0s - loss: 0.3211 - accuracy: 0.88 - ETA: 0s - loss: 0.3203 - accuracy: 0.88 - ETA: 0s - loss: 0.3209 - accuracy: 0.88 - ETA: 0s - loss: 0.3214 - accuracy: 0.88 - ETA: 0s - loss: 0.3227 - accuracy: 0.88 - ETA: 0s - loss: 0.3230 - accuracy: 0.88 - ETA: 0s - loss: 0.3231 - accuracy: 0.88 - ETA: 0s - loss: 0.3216 - accuracy: 0.88 - ETA: 0s - loss: 0.3218 - accuracy: 0.88 - 2s 1ms/step - loss: 0.3214 - accuracy: 0.8821 - val_loss: 0.3527 - val_accuracy: 0.8745\n",
      "Epoch 4/10\n",
      "1875/1875 [==============================] - ETA: 1s - loss: 0.2705 - accuracy: 0.90 - ETA: 1s - loss: 0.2675 - accuracy: 0.90 - ETA: 1s - loss: 0.2832 - accuracy: 0.89 - ETA: 1s - loss: 0.2977 - accuracy: 0.88 - ETA: 1s - loss: 0.2934 - accuracy: 0.89 - ETA: 1s - loss: 0.2926 - accuracy: 0.89 - ETA: 1s - loss: 0.2961 - accuracy: 0.89 - ETA: 1s - loss: 0.2982 - accuracy: 0.88 - ETA: 1s - loss: 0.2981 - accuracy: 0.88 - ETA: 1s - loss: 0.2994 - accuracy: 0.88 - ETA: 1s - loss: 0.3007 - accuracy: 0.88 - ETA: 1s - loss: 0.2964 - accuracy: 0.89 - ETA: 1s - loss: 0.2983 - accuracy: 0.88 - ETA: 1s - loss: 0.2992 - accuracy: 0.88 - ETA: 1s - loss: 0.3004 - accuracy: 0.88 - ETA: 1s - loss: 0.3000 - accuracy: 0.88 - ETA: 0s - loss: 0.3004 - accuracy: 0.88 - ETA: 0s - loss: 0.3013 - accuracy: 0.88 - ETA: 0s - loss: 0.3000 - accuracy: 0.88 - ETA: 0s - loss: 0.3004 - accuracy: 0.88 - ETA: 0s - loss: 0.3013 - accuracy: 0.88 - ETA: 0s - loss: 0.3002 - accuracy: 0.88 - ETA: 0s - loss: 0.2993 - accuracy: 0.88 - ETA: 0s - loss: 0.2991 - accuracy: 0.88 - ETA: 0s - loss: 0.2988 - accuracy: 0.88 - ETA: 0s - loss: 0.2981 - accuracy: 0.88 - ETA: 0s - loss: 0.2974 - accuracy: 0.88 - ETA: 0s - loss: 0.2956 - accuracy: 0.89 - ETA: 0s - loss: 0.2964 - accuracy: 0.89 - ETA: 0s - loss: 0.2966 - accuracy: 0.89 - ETA: 0s - loss: 0.2967 - accuracy: 0.89 - ETA: 0s - loss: 0.2967 - accuracy: 0.89 - ETA: 0s - loss: 0.2970 - accuracy: 0.89 - ETA: 0s - loss: 0.2959 - accuracy: 0.89 - ETA: 0s - loss: 0.2966 - accuracy: 0.89 - 2s 1ms/step - loss: 0.2966 - accuracy: 0.8904 - val_loss: 0.3541 - val_accuracy: 0.8671\n",
      "Epoch 5/10\n",
      "1875/1875 [==============================] - ETA: 0s - loss: 0.3159 - accuracy: 0.84 - ETA: 1s - loss: 0.2605 - accuracy: 0.89 - ETA: 1s - loss: 0.2673 - accuracy: 0.89 - ETA: 1s - loss: 0.2668 - accuracy: 0.89 - ETA: 1s - loss: 0.2751 - accuracy: 0.89 - ETA: 1s - loss: 0.2780 - accuracy: 0.89 - ETA: 1s - loss: 0.2737 - accuracy: 0.89 - ETA: 1s - loss: 0.2774 - accuracy: 0.89 - ETA: 1s - loss: 0.2757 - accuracy: 0.89 - ETA: 1s - loss: 0.2763 - accuracy: 0.89 - ETA: 1s - loss: 0.2758 - accuracy: 0.89 - ETA: 1s - loss: 0.2773 - accuracy: 0.89 - ETA: 1s - loss: 0.2773 - accuracy: 0.89 - ETA: 1s - loss: 0.2785 - accuracy: 0.89 - ETA: 0s - loss: 0.2790 - accuracy: 0.89 - ETA: 0s - loss: 0.2789 - accuracy: 0.89 - ETA: 0s - loss: 0.2783 - accuracy: 0.89 - ETA: 0s - loss: 0.2780 - accuracy: 0.89 - ETA: 0s - loss: 0.2779 - accuracy: 0.89 - ETA: 0s - loss: 0.2793 - accuracy: 0.89 - ETA: 0s - loss: 0.2797 - accuracy: 0.89 - ETA: 0s - loss: 0.2809 - accuracy: 0.89 - ETA: 0s - loss: 0.2810 - accuracy: 0.89 - ETA: 0s - loss: 0.2799 - accuracy: 0.89 - ETA: 0s - loss: 0.2804 - accuracy: 0.89 - ETA: 0s - loss: 0.2796 - accuracy: 0.89 - ETA: 0s - loss: 0.2807 - accuracy: 0.89 - ETA: 0s - loss: 0.2810 - accuracy: 0.89 - ETA: 0s - loss: 0.2808 - accuracy: 0.89 - ETA: 0s - loss: 0.2811 - accuracy: 0.89 - ETA: 0s - loss: 0.2815 - accuracy: 0.89 - ETA: 0s - loss: 0.2809 - accuracy: 0.89 - ETA: 0s - loss: 0.2809 - accuracy: 0.89 - ETA: 0s - loss: 0.2803 - accuracy: 0.89 - 2s 1ms/step - loss: 0.2804 - accuracy: 0.8947 - val_loss: 0.3310 - val_accuracy: 0.8821\n",
      "Epoch 6/10\n"
     ]
    },
    {
     "name": "stdout",
     "output_type": "stream",
     "text": [
      "1875/1875 [==============================] - ETA: 1s - loss: 0.1776 - accuracy: 0.90 - ETA: 1s - loss: 0.2680 - accuracy: 0.89 - ETA: 1s - loss: 0.2614 - accuracy: 0.90 - ETA: 1s - loss: 0.2594 - accuracy: 0.90 - ETA: 1s - loss: 0.2622 - accuracy: 0.90 - ETA: 1s - loss: 0.2629 - accuracy: 0.89 - ETA: 1s - loss: 0.2652 - accuracy: 0.89 - ETA: 1s - loss: 0.2640 - accuracy: 0.89 - ETA: 1s - loss: 0.2648 - accuracy: 0.89 - ETA: 1s - loss: 0.2648 - accuracy: 0.89 - ETA: 1s - loss: 0.2655 - accuracy: 0.89 - ETA: 1s - loss: 0.2662 - accuracy: 0.89 - ETA: 1s - loss: 0.2649 - accuracy: 0.89 - ETA: 1s - loss: 0.2662 - accuracy: 0.89 - ETA: 0s - loss: 0.2659 - accuracy: 0.89 - ETA: 0s - loss: 0.2675 - accuracy: 0.89 - ETA: 0s - loss: 0.2686 - accuracy: 0.89 - ETA: 0s - loss: 0.2702 - accuracy: 0.89 - ETA: 0s - loss: 0.2684 - accuracy: 0.89 - ETA: 0s - loss: 0.2687 - accuracy: 0.89 - ETA: 0s - loss: 0.2676 - accuracy: 0.89 - ETA: 0s - loss: 0.2675 - accuracy: 0.89 - ETA: 0s - loss: 0.2664 - accuracy: 0.90 - ETA: 0s - loss: 0.2668 - accuracy: 0.90 - ETA: 0s - loss: 0.2669 - accuracy: 0.90 - ETA: 0s - loss: 0.2660 - accuracy: 0.90 - ETA: 0s - loss: 0.2661 - accuracy: 0.90 - ETA: 0s - loss: 0.2657 - accuracy: 0.90 - ETA: 0s - loss: 0.2651 - accuracy: 0.90 - ETA: 0s - loss: 0.2657 - accuracy: 0.90 - ETA: 0s - loss: 0.2663 - accuracy: 0.90 - ETA: 0s - loss: 0.2655 - accuracy: 0.90 - ETA: 0s - loss: 0.2656 - accuracy: 0.90 - ETA: 0s - loss: 0.2651 - accuracy: 0.90 - 2s 1ms/step - loss: 0.2649 - accuracy: 0.9010 - val_loss: 0.3404 - val_accuracy: 0.8814\n",
      "Epoch 7/10\n",
      "1875/1875 [==============================] - ETA: 0s - loss: 0.3095 - accuracy: 0.90 - ETA: 1s - loss: 0.2460 - accuracy: 0.91 - ETA: 1s - loss: 0.2459 - accuracy: 0.91 - ETA: 1s - loss: 0.2568 - accuracy: 0.90 - ETA: 1s - loss: 0.2501 - accuracy: 0.90 - ETA: 1s - loss: 0.2551 - accuracy: 0.90 - ETA: 1s - loss: 0.2529 - accuracy: 0.90 - ETA: 1s - loss: 0.2514 - accuracy: 0.90 - ETA: 1s - loss: 0.2535 - accuracy: 0.90 - ETA: 1s - loss: 0.2542 - accuracy: 0.90 - ETA: 1s - loss: 0.2533 - accuracy: 0.90 - ETA: 1s - loss: 0.2530 - accuracy: 0.90 - ETA: 1s - loss: 0.2520 - accuracy: 0.90 - ETA: 1s - loss: 0.2500 - accuracy: 0.90 - ETA: 1s - loss: 0.2511 - accuracy: 0.90 - ETA: 1s - loss: 0.2526 - accuracy: 0.90 - ETA: 0s - loss: 0.2526 - accuracy: 0.90 - ETA: 0s - loss: 0.2525 - accuracy: 0.90 - ETA: 0s - loss: 0.2538 - accuracy: 0.90 - ETA: 0s - loss: 0.2548 - accuracy: 0.90 - ETA: 0s - loss: 0.2531 - accuracy: 0.90 - ETA: 0s - loss: 0.2537 - accuracy: 0.90 - ETA: 0s - loss: 0.2537 - accuracy: 0.90 - ETA: 0s - loss: 0.2537 - accuracy: 0.90 - ETA: 0s - loss: 0.2528 - accuracy: 0.90 - ETA: 0s - loss: 0.2536 - accuracy: 0.90 - ETA: 0s - loss: 0.2537 - accuracy: 0.90 - ETA: 0s - loss: 0.2537 - accuracy: 0.90 - ETA: 0s - loss: 0.2534 - accuracy: 0.90 - ETA: 0s - loss: 0.2538 - accuracy: 0.90 - ETA: 0s - loss: 0.2536 - accuracy: 0.90 - ETA: 0s - loss: 0.2536 - accuracy: 0.90 - ETA: 0s - loss: 0.2531 - accuracy: 0.90 - ETA: 0s - loss: 0.2533 - accuracy: 0.90 - ETA: 0s - loss: 0.2537 - accuracy: 0.90 - 2s 1ms/step - loss: 0.2532 - accuracy: 0.9047 - val_loss: 0.3248 - val_accuracy: 0.8838\n",
      "Epoch 8/10\n",
      "1875/1875 [==============================] - ETA: 0s - loss: 0.1086 - accuracy: 0.96 - ETA: 1s - loss: 0.2512 - accuracy: 0.90 - ETA: 1s - loss: 0.2457 - accuracy: 0.91 - ETA: 1s - loss: 0.2360 - accuracy: 0.91 - ETA: 1s - loss: 0.2350 - accuracy: 0.91 - ETA: 1s - loss: 0.2385 - accuracy: 0.91 - ETA: 1s - loss: 0.2384 - accuracy: 0.91 - ETA: 1s - loss: 0.2406 - accuracy: 0.91 - ETA: 1s - loss: 0.2391 - accuracy: 0.91 - ETA: 1s - loss: 0.2369 - accuracy: 0.91 - ETA: 1s - loss: 0.2360 - accuracy: 0.91 - ETA: 1s - loss: 0.2361 - accuracy: 0.91 - ETA: 1s - loss: 0.2349 - accuracy: 0.91 - ETA: 1s - loss: 0.2339 - accuracy: 0.91 - ETA: 1s - loss: 0.2329 - accuracy: 0.91 - ETA: 0s - loss: 0.2348 - accuracy: 0.91 - ETA: 0s - loss: 0.2361 - accuracy: 0.91 - ETA: 0s - loss: 0.2345 - accuracy: 0.91 - ETA: 0s - loss: 0.2354 - accuracy: 0.91 - ETA: 0s - loss: 0.2361 - accuracy: 0.91 - ETA: 0s - loss: 0.2365 - accuracy: 0.91 - ETA: 0s - loss: 0.2364 - accuracy: 0.91 - ETA: 0s - loss: 0.2380 - accuracy: 0.91 - ETA: 0s - loss: 0.2384 - accuracy: 0.91 - ETA: 0s - loss: 0.2385 - accuracy: 0.91 - ETA: 0s - loss: 0.2385 - accuracy: 0.91 - ETA: 0s - loss: 0.2386 - accuracy: 0.91 - ETA: 0s - loss: 0.2379 - accuracy: 0.91 - ETA: 0s - loss: 0.2388 - accuracy: 0.91 - ETA: 0s - loss: 0.2388 - accuracy: 0.91 - ETA: 0s - loss: 0.2395 - accuracy: 0.91 - ETA: 0s - loss: 0.2398 - accuracy: 0.91 - ETA: 0s - loss: 0.2408 - accuracy: 0.91 - ETA: 0s - loss: 0.2400 - accuracy: 0.91 - ETA: 0s - loss: 0.2404 - accuracy: 0.91 - 2s 1ms/step - loss: 0.2405 - accuracy: 0.9102 - val_loss: 0.3403 - val_accuracy: 0.8804\n",
      "Epoch 9/10\n",
      "1875/1875 [==============================] - ETA: 0s - loss: 0.2700 - accuracy: 0.90 - ETA: 1s - loss: 0.2212 - accuracy: 0.91 - ETA: 1s - loss: 0.2199 - accuracy: 0.91 - ETA: 1s - loss: 0.2284 - accuracy: 0.91 - ETA: 1s - loss: 0.2346 - accuracy: 0.91 - ETA: 1s - loss: 0.2367 - accuracy: 0.91 - ETA: 1s - loss: 0.2314 - accuracy: 0.91 - ETA: 1s - loss: 0.2284 - accuracy: 0.91 - ETA: 1s - loss: 0.2276 - accuracy: 0.91 - ETA: 1s - loss: 0.2291 - accuracy: 0.91 - ETA: 1s - loss: 0.2295 - accuracy: 0.91 - ETA: 1s - loss: 0.2291 - accuracy: 0.91 - ETA: 1s - loss: 0.2280 - accuracy: 0.91 - ETA: 1s - loss: 0.2270 - accuracy: 0.91 - ETA: 0s - loss: 0.2285 - accuracy: 0.91 - ETA: 0s - loss: 0.2274 - accuracy: 0.91 - ETA: 0s - loss: 0.2280 - accuracy: 0.91 - ETA: 0s - loss: 0.2280 - accuracy: 0.91 - ETA: 0s - loss: 0.2300 - accuracy: 0.91 - ETA: 0s - loss: 0.2304 - accuracy: 0.91 - ETA: 0s - loss: 0.2298 - accuracy: 0.91 - ETA: 0s - loss: 0.2296 - accuracy: 0.91 - ETA: 0s - loss: 0.2291 - accuracy: 0.91 - ETA: 0s - loss: 0.2289 - accuracy: 0.91 - ETA: 0s - loss: 0.2285 - accuracy: 0.91 - ETA: 0s - loss: 0.2288 - accuracy: 0.91 - ETA: 0s - loss: 0.2295 - accuracy: 0.91 - ETA: 0s - loss: 0.2301 - accuracy: 0.91 - ETA: 0s - loss: 0.2304 - accuracy: 0.91 - ETA: 0s - loss: 0.2302 - accuracy: 0.91 - ETA: 0s - loss: 0.2298 - accuracy: 0.91 - ETA: 0s - loss: 0.2296 - accuracy: 0.91 - ETA: 0s - loss: 0.2303 - accuracy: 0.91 - ETA: 0s - loss: 0.2307 - accuracy: 0.91 - 2s 1ms/step - loss: 0.2300 - accuracy: 0.9139 - val_loss: 0.3334 - val_accuracy: 0.8853\n",
      "Epoch 10/10\n",
      "1875/1875 [==============================] - ETA: 0s - loss: 0.1451 - accuracy: 0.96 - ETA: 1s - loss: 0.2180 - accuracy: 0.91 - ETA: 1s - loss: 0.2209 - accuracy: 0.91 - ETA: 1s - loss: 0.2136 - accuracy: 0.91 - ETA: 1s - loss: 0.2187 - accuracy: 0.91 - ETA: 1s - loss: 0.2220 - accuracy: 0.91 - ETA: 1s - loss: 0.2229 - accuracy: 0.91 - ETA: 1s - loss: 0.2226 - accuracy: 0.91 - ETA: 1s - loss: 0.2209 - accuracy: 0.91 - ETA: 1s - loss: 0.2202 - accuracy: 0.91 - ETA: 1s - loss: 0.2195 - accuracy: 0.91 - ETA: 1s - loss: 0.2204 - accuracy: 0.91 - ETA: 1s - loss: 0.2213 - accuracy: 0.91 - ETA: 1s - loss: 0.2240 - accuracy: 0.91 - ETA: 0s - loss: 0.2237 - accuracy: 0.91 - ETA: 0s - loss: 0.2226 - accuracy: 0.91 - ETA: 0s - loss: 0.2217 - accuracy: 0.91 - ETA: 0s - loss: 0.2202 - accuracy: 0.91 - ETA: 0s - loss: 0.2190 - accuracy: 0.91 - ETA: 0s - loss: 0.2186 - accuracy: 0.91 - ETA: 0s - loss: 0.2191 - accuracy: 0.91 - ETA: 0s - loss: 0.2188 - accuracy: 0.91 - ETA: 0s - loss: 0.2195 - accuracy: 0.91 - ETA: 0s - loss: 0.2198 - accuracy: 0.91 - ETA: 0s - loss: 0.2197 - accuracy: 0.91 - ETA: 0s - loss: 0.2198 - accuracy: 0.91 - ETA: 0s - loss: 0.2200 - accuracy: 0.91 - ETA: 0s - loss: 0.2204 - accuracy: 0.91 - ETA: 0s - loss: 0.2203 - accuracy: 0.91 - ETA: 0s - loss: 0.2211 - accuracy: 0.91 - ETA: 0s - loss: 0.2211 - accuracy: 0.91 - ETA: 0s - loss: 0.2219 - accuracy: 0.91 - ETA: 0s - loss: 0.2222 - accuracy: 0.91 - ETA: 0s - loss: 0.2219 - accuracy: 0.91 - 2s 1ms/step - loss: 0.2221 - accuracy: 0.9165 - val_loss: 0.3424 - val_accuracy: 0.8813\n"
     ]
    },
    {
     "data": {
      "text/plain": [
       "<tensorflow.python.keras.callbacks.History at 0x29aa1373820>"
      ]
     },
     "execution_count": 11,
     "metadata": {},
     "output_type": "execute_result"
    }
   ],
   "source": [
    "# Build the model with the optimal hyperparameters and train it on the data\n",
    "model = tuner.hypermodel.build(best_hps)\n",
    "model.fit(img_train, label_train, epochs = 10, validation_data = (img_test, label_test))"
   ]
  },
  {
   "cell_type": "code",
   "execution_count": null,
   "metadata": {},
   "outputs": [],
   "source": []
  }
 ],
 "metadata": {
  "kernelspec": {
   "display_name": "Python 3",
   "language": "python",
   "name": "python3"
  },
  "language_info": {
   "codemirror_mode": {
    "name": "ipython",
    "version": 3
   },
   "file_extension": ".py",
   "mimetype": "text/x-python",
   "name": "python",
   "nbconvert_exporter": "python",
   "pygments_lexer": "ipython3",
   "version": "3.8.3"
  }
 },
 "nbformat": 4,
 "nbformat_minor": 4
}
