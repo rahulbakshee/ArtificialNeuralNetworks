{
 "cells": [
  {
   "cell_type": "markdown",
   "metadata": {},
   "source": [
    "## Basic text classification\n",
    "https://www.tensorflow.org/tutorials/keras/text_classification"
   ]
  },
  {
   "cell_type": "code",
   "execution_count": 1,
   "metadata": {},
   "outputs": [
    {
     "name": "stdout",
     "output_type": "stream",
     "text": [
      "2.3.0\n"
     ]
    }
   ],
   "source": [
    "import tensorflow as tf\n",
    "print(tf.__version__)\n",
    "\n",
    "import os, shutil, re, string\n",
    "import matplotlib.pyplot as plt\n",
    "%matplotlib inline\n",
    "seed = 21\n",
    "\n",
    "\n",
    "from tensorflow.keras.layers.experimental.preprocessing import TextVectorization"
   ]
  },
  {
   "cell_type": "markdown",
   "metadata": {},
   "source": [
    "#### Sentiment Analsis | binary classification | IMDB review dataset"
   ]
  },
  {
   "cell_type": "code",
   "execution_count": 2,
   "metadata": {},
   "outputs": [],
   "source": [
    "url = \"https://ai.stanford.edu/~amaas/data/sentiment/aclImdb_v1.tar.gz\"\n",
    "\n",
    "dataset = tf.keras.utils.get_file(\"aclImdb_v1.tar.gz\", url,untar = True, cache_dir='.', cache_subdir='')\n",
    "\n",
    "dataset_dir = os.path.join(os.path.dirname(dataset), 'aclImdb')"
   ]
  },
  {
   "cell_type": "code",
   "execution_count": 3,
   "metadata": {},
   "outputs": [
    {
     "data": {
      "text/plain": [
       "['imdb.vocab', 'imdbEr.txt', 'README', 'test', 'train']"
      ]
     },
     "execution_count": 3,
     "metadata": {},
     "output_type": "execute_result"
    }
   ],
   "source": [
    "os.listdir(dataset_dir)"
   ]
  },
  {
   "cell_type": "code",
   "execution_count": 4,
   "metadata": {},
   "outputs": [
    {
     "data": {
      "text/plain": [
       "['labeledBow.feat',\n",
       " 'neg',\n",
       " 'pos',\n",
       " 'unsup',\n",
       " 'unsupBow.feat',\n",
       " 'urls_neg.txt',\n",
       " 'urls_pos.txt',\n",
       " 'urls_unsup.txt']"
      ]
     },
     "execution_count": 4,
     "metadata": {},
     "output_type": "execute_result"
    }
   ],
   "source": [
    "train_dir = os.path.join(dataset_dir, 'train')\n",
    "os.listdir(train_dir)"
   ]
  },
  {
   "cell_type": "code",
   "execution_count": 5,
   "metadata": {},
   "outputs": [
    {
     "data": {
      "text/plain": [
       "['0_9.txt',\n",
       " '10000_8.txt',\n",
       " '10001_10.txt',\n",
       " '10002_7.txt',\n",
       " '10003_8.txt',\n",
       " '10004_8.txt',\n",
       " '10005_7.txt',\n",
       " '10006_7.txt',\n",
       " '10007_7.txt',\n",
       " '10008_7.txt']"
      ]
     },
     "execution_count": 5,
     "metadata": {},
     "output_type": "execute_result"
    }
   ],
   "source": [
    "os.listdir(os.path.join(train_dir, 'pos'))[:10]"
   ]
  },
  {
   "cell_type": "code",
   "execution_count": 6,
   "metadata": {},
   "outputs": [
    {
     "name": "stdout",
     "output_type": "stream",
     "text": [
      "In this \"critically acclaimed psychological thriller based on true events, Gabriel (Robin Williams), a celebrated writer and late-night talk show host, becomes captivated by the harrowing story of a young listener and his adoptive mother (Toni Collette). When troubling questions arise about this boy's (story), however, Gabriel finds himself drawn into a widening mystery that hides a deadly secretÂ…\" according to film's official synopsis.<br /><br />You really should STOP reading these comments, and watch the film NOW...<br /><br />The \"How did he lose his leg?\" ending, with Ms. Collette planning her new life, should be chopped off, and sent to \"deleted scenes\" land. It's overkill. The true nature of her physical and mental ailments should be obvious, by the time Mr. Williams returns to New York. Possibly, her blindness could be in question - but a revelation could have be made certain in either the \"highway\" or \"video tape\" scenes. The film would benefit from a re-editing - how about a \"director's cut\"? <br /><br />Williams and Bobby Cannavale (as Jess) don't seem, initially, believable as a couple. A scene or two establishing their relationship might have helped set the stage. Otherwise, the cast is exemplary. Williams offers an exceptionally strong characterization, and not a \"gay impersonation\". Sandra Oh (as Anna), Joe Morton (as Ashe), and Rory Culkin (Pete Logand) are all perfect.<br /><br />Best of all, Collette's \"Donna\" belongs in the creepy hall of fame. Ms. Oh is correct in saying Collette might be, \"you know, like that guy from 'Psycho'.\" There have been several years when organizations giving acting awards seemed to reach for women, due to a slighter dispersion of roles; certainly, they could have noticed Collette with some award consideration. She is that good. And, director Patrick Stettner definitely evokes Hitchcock - he even makes getting a sandwich from a vending machine suspenseful.<br /><br />Finally, writers Stettner, Armistead Maupin, and Terry Anderson deserve gratitude from flight attendants everywhere.<br /><br />******* The Night Listener (1/21/06) Patrick Stettner ~ Robin Williams, Toni Collette, Sandra Oh, Rory Culkin\n"
     ]
    }
   ],
   "source": [
    "sample = os.path.join(train_dir, 'pos/10006_7.txt')\n",
    "with open(sample) as f:\n",
    "    print(f.read())"
   ]
  },
  {
   "cell_type": "code",
   "execution_count": 7,
   "metadata": {},
   "outputs": [
    {
     "name": "stdout",
     "output_type": "stream",
     "text": [
      "After a series of silly, fun-loving movies, 1955 was a big year for Doris Day. That year saw her handed the role of singer Ruth Etting, who made it to the top but whose personal life suffered for her success.<br /><br />The film begins with a chance meeting by Etting at a dime-a-dance joint with gangster Martin Snyder, brilliantly played by James Cagney. Cagney, with his connections, brings stardom to Etting, but she loses her freedom to a miserable existence dominated by Snyder, who ultimately marries her, after a memorable fight on opening night at the Ziegfeld Follies.<br /><br />Day's singing was never better. In addition to the old Etting favorites, she sings the new song I'll Never Stop Loving You.<br /><br />Cowboy movie actor, Cameron Mitchell, turns in an equally strong performance as piano player, Johnny Alderman, who leaves Etting, out of disgust for the way she is being dominated, only to encounter her years later, when the two of them are working on a movie. Their revived romance leads to near tragedy.<br /><br />Cagney received a well-deserved Oscar Nomination. To this day, I'll never understand why Day and the film were overlooked for Oscar nominations.\n"
     ]
    }
   ],
   "source": [
    "with open(os.path.join(train_dir, 'unsup/10003_0.txt')) as f:\n",
    "    print(f.read())"
   ]
  },
  {
   "cell_type": "code",
   "execution_count": 8,
   "metadata": {},
   "outputs": [
    {
     "data": {
      "text/plain": [
       "['labeledBow.feat',\n",
       " 'neg',\n",
       " 'pos',\n",
       " 'unsupBow.feat',\n",
       " 'urls_neg.txt',\n",
       " 'urls_pos.txt',\n",
       " 'urls_unsup.txt']"
      ]
     },
     "execution_count": 8,
     "metadata": {},
     "output_type": "execute_result"
    }
   ],
   "source": [
    "# expected format for data\n",
    "# main_directory/\n",
    "# ...class_a/\n",
    "# ......a_text_1.txt\n",
    "# ......a_text_2.txt\n",
    "# ...class_b/\n",
    "# ......b_text_1.txt\n",
    "# ......b_text_2.txt\n",
    "\n",
    "# remove the not required folders under \"train\"\n",
    "\n",
    "remove_dir = os.path.join(train_dir, 'unsup')\n",
    "shutil.rmtree(remove_dir)\n",
    "os.listdir(train_dir)"
   ]
  },
  {
   "cell_type": "code",
   "execution_count": 9,
   "metadata": {},
   "outputs": [
    {
     "name": "stdout",
     "output_type": "stream",
     "text": [
      "Found 25000 files belonging to 2 classes.\n",
      "Using 20000 files for training.\n"
     ]
    }
   ],
   "source": [
    "# to craete tf.data.Dataset\n",
    "batch_size = 32\n",
    "raw_train_ds = tf.keras.preprocessing.text_dataset_from_directory('aclImdb/train',\n",
    "                                                   batch_size=batch_size,\n",
    "                                                   validation_split=0.2,\n",
    "                                                   subset=\"training\",\n",
    "                                                   seed=seed\n",
    "                                                  )"
   ]
  },
  {
   "cell_type": "code",
   "execution_count": 10,
   "metadata": {},
   "outputs": [
    {
     "name": "stdout",
     "output_type": "stream",
     "text": [
      "Found 25000 files belonging to 2 classes.\n",
      "Using 5000 files for validation.\n"
     ]
    }
   ],
   "source": [
    "raw_val_ds = tf.keras.preprocessing.text_dataset_from_directory('aclImdb/train',\n",
    "                                                                batch_size=batch_size,\n",
    "                                                                validation_split=0.2,\n",
    "                                                                subset='validation',\n",
    "                                                                seed=seed\n",
    "                                                               )"
   ]
  },
  {
   "cell_type": "code",
   "execution_count": 11,
   "metadata": {},
   "outputs": [
    {
     "name": "stdout",
     "output_type": "stream",
     "text": [
      "Found 25000 files belonging to 2 classes.\n"
     ]
    }
   ],
   "source": [
    "raw_test_ds = tf.keras.preprocessing.text_dataset_from_directory('aclImdb/test',\n",
    "                                                                batch_size=batch_size,\n",
    "                                                                 seed=seed)"
   ]
  },
  {
   "cell_type": "code",
   "execution_count": 12,
   "metadata": {},
   "outputs": [
    {
     "data": {
      "text/plain": [
       "(['neg', 'pos'], ['neg', 'pos'], ['neg', 'pos'])"
      ]
     },
     "execution_count": 12,
     "metadata": {},
     "output_type": "execute_result"
    }
   ],
   "source": [
    "raw_train_ds.class_names, raw_val_ds.class_names, raw_test_ds.class_names"
   ]
  },
  {
   "cell_type": "code",
   "execution_count": 13,
   "metadata": {},
   "outputs": [],
   "source": [
    "# preprocess the data\n",
    "def custome_strandardise(input_data):\n",
    "    lowered = tf.strings.lower(input_data)\n",
    "    stripped_html = tf.strings.regex_replace(lowered, '<br />', ' ')\n",
    "    punctuated = tf.strings.regex_replace(stripped_html,'[%s]' % re.escape(string.punctuation),'')\n",
    "    return punctuated"
   ]
  },
  {
   "cell_type": "code",
   "execution_count": 14,
   "metadata": {},
   "outputs": [],
   "source": [
    "# text vectorization\n",
    "max_features = 10000\n",
    "seq_length = 250\n",
    "\n",
    "\n",
    "vectorize_layer = TextVectorization(standardize=custome_strandardise,\n",
    "                                    max_tokens=max_features,\n",
    "                                    output_mode='int',\n",
    "                                    output_sequence_length=seq_length)"
   ]
  },
  {
   "cell_type": "code",
   "execution_count": 15,
   "metadata": {},
   "outputs": [],
   "source": [
    "# make a text only data (without labeles) then call adapt\n",
    "train_text = raw_train_ds.map(lambda x,y: x)\n",
    "vectorize_layer.adapt(train_text)"
   ]
  },
  {
   "cell_type": "code",
   "execution_count": 16,
   "metadata": {},
   "outputs": [
    {
     "name": "stdout",
     "output_type": "stream",
     "text": [
      "Review tf.Tensor(b\"OK. I admit. I'm one of those nerds who have spent all to many hours with my beloved DVD player and my wonderful television set watching science fiction series. Star Trek (Next Generation) was my first space date, and since then I've switched partners regularly. I've seen'em all, it seems, and my favorites are \\xc2\\xabLexx\\xc2\\xbb, \\xc2\\xabFarscape\\xc2\\xbb and the new \\xc2\\xabBattlestar Galactica\\xc2\\xbb, in other words: the newest, state of the art space operas. But, I also have a general crush on the old fashioned ones, the cheap ones, like the magnificent four seasoned BBC show \\xc2\\xabBlakes7\\xc2\\xbb. Here, the budgets are smaller than hobbits, the special effects seem to be made on a Commodore 64, but who cares when the scripts are sharp and intelligently written with dark humor, the acting dead serious and at times even high class?<br /><br />But why do they always speak English in the space future? Because this is NOT the future, it's fantasy for kids. Still, it can be irritating at times. Me, being a Norwegian, have often damned this appalling fact that one never makes genre series, like science fiction, for Scandinavian viewers. I never ever thought of the fact that this might have happened. But it did, actually, once, and even in my own homeland, Norway. I was two years old when the so called Fjernsynsteatret (TV theater section) of our national public service channel Nrk produced this three episode version of Blindpassasjer (The Stowaway).<br /><br />When I first heard of it, I was not surprised of the fact that until this day, the show has only been screened once in Norway, making it impossible for me to actually see it. It went on Swedish, danish and Finnish television also, in it's time, but that was a long time ago. There have been no video or DVD release of it, not a surprise either, and when it was screened on an art house cinema, this happened in Bergen, a city far far away from Oslo (where I live). And then there's another fact about \\xc2\\xabBlindpassasjer\\xc2\\xbb that didn't surprise me, that it was written by the two Norwegian authors Tor \\xc3\\x85ge Bringsv\\xc3\\xa6rd and Jon Bing (Bing&Bringsv\\xc3\\xa6rd). This duo basically introduced the SciFi genre to Norwegians in the seventies; they published anthologies and wrote what they called fable prose. In my opinion, Bringsv\\xc3\\xa6rd is the most interesting of the two writers, and has written several great and entertaining novels, masterpieces even, some of them hilarious, such as \\xc2\\xabBazar\\xc2\\xbb and \\xc2\\xabSyvsoverskens Dystre Frokost\\xc2\\xbb. No other than this guy, also an acclaimed dramatist, could construct the script of \\xc2\\xabBlindpassasjer\\xc2\\xbb.<br /><br />When I finally got to watch it, it was because a strange swede who recorded the three episodes on VCR in the 80's, eventually managed to transform it to DVD and give it to me. He was a nice bloke. So I sat down and watched it, with Swedish subtitles, bad sound and some scrapes and errors; but the thing came through and I was surprised that I eventually came to love it.<br /><br />The exterior scenes with the spaceships and planets are better than the ones in Blakes7, and the credit goes to Caprino studios (who made the famous Fl\\xc3\\xa5klypa Grand Prix), and the interior of the Marco Polo (the space ship) works better than I'd expected. The acting is typically theatrical, but it works better than when they play Ibsen, to put it mildly, and Bj\\xc3\\xb8rn Floberg carries his role solidly, as does Trini Lund. The legendary actress Henny moan delivers her lines in a serious and laid back tone which fits the genre, but this is an ensemble play, and I'm happy to say that Ola B. Johannesen carries his mustache with nobility, and Marit \\xc3\\x98stbye is a really hot space chic of my standards.<br /><br />But is it really that good? Well, one have to swallow the rather abrupt ending, the pretentious criticism of \\xc2\\xabmodern society\\xc2\\xbb, but yes, it's, well, not really really really fantastic, but charming, cool, nostalgic and pleasant. One and a half hour of classic Norwegian SciFi.\", shape=(), dtype=string)\n",
      "Label pos\n",
      "Vectorized review (<tf.Tensor: shape=(1, 250), dtype=int64, numpy=\n",
      "array([[ 598,   10,  902,  142,   28,    5,  143, 9009,   36,   25, 1036,\n",
      "          31,    6,  105,  641,   16,   53, 2655,  288, 1919,    3,   53,\n",
      "         372,  680,  286,  146, 1143, 1333,  196,  329, 2162,  359, 2161,\n",
      "          13,   53,   85,  796, 1296,    3,  230,   91,  198, 6162, 5249,\n",
      "        6932,  198,    1,   31,    9,  180,    3,   53, 2699,   23,    1,\n",
      "           1,    3,    2,  154,    1,    1,    8,   82,  700,    2,    1,\n",
      "        1136,    5,    2,  510,  796, 9794,   18,   10,   76,   25,    4,\n",
      "         774, 4518,   20,    2,  164, 4931,  516,    2,  679,  516,   38,\n",
      "           2, 1998,  685, 6920, 2920,  118,    1,  129,    2, 7235,   23,\n",
      "        4093,   71,    1,    2,  304,  294,  297,    6,   26,   90,   20,\n",
      "           4,    1, 9401,   18,   36, 2124,   51,    2, 2930,   23, 2548,\n",
      "           3, 8625,  424,   16,  466,  482,    2,  109,  352,  619,    3,\n",
      "          30,  209,   55,  323,  784,   18,  134,   81,   34,  202, 1106,\n",
      "         626,    8,    2,  796,  675,   79,   11,    7,   21,    2,  675,\n",
      "          29,  952,   15,  322,  125,    9,   68,   26, 2191,   30,  209,\n",
      "          69,  106,    4,    1,   25,  385, 6057,   11, 3473,  186,   12,\n",
      "          28,  113,  157,  523,  196,   38, 1143, 1333,   15,    1,  711,\n",
      "          10,  113,  121,  194,    5,    2,  186,   12,   11,  228,   25,\n",
      "         553,   18,    9,  114,  158,  284,    3,   55,    8,   53,  197,\n",
      "           1,    1,   10,   13,  104,  144,  164,   51,    2,   37,  486,\n",
      "           1,  242,  756, 2549,    5,  257, 2016, 1046, 2356, 1242,    1,\n",
      "        1112,   11,  299,  380,  301,    5,    1,    2,    1,   51,   10,\n",
      "          85,  537,    5,    9,   10,   13,   21,  729]], dtype=int64)>, <tf.Tensor: shape=(), dtype=int32, numpy=1>)\n",
      "1287 --->  innocent\n",
      " 313 --->  american\n",
      "Vocabulary size: 10000\n"
     ]
    }
   ],
   "source": [
    "# just to check how vectorise_layer works\n",
    "\n",
    "def vectorize_text(text, label):\n",
    "    text = tf.expand_dims(text, -1)\n",
    "    return vectorize_layer(text), label\n",
    "\n",
    "# retrieve a batch (of 32 reviews and labels) from the dataset\n",
    "text_batch, label_batch = next(iter(raw_train_ds))\n",
    "first_review, first_label = text_batch[0], label_batch[0]\n",
    "print(\"Review\", first_review)\n",
    "print(\"Label\", raw_train_ds.class_names[first_label])\n",
    "print(\"Vectorized review\", vectorize_text(first_review, first_label))\n",
    "\n",
    "\n",
    "print(\"1287 ---> \",vectorize_layer.get_vocabulary()[1287])\n",
    "print(\" 313 ---> \",vectorize_layer.get_vocabulary()[313])\n",
    "print('Vocabulary size: {}'.format(len(vectorize_layer.get_vocabulary())))"
   ]
  },
  {
   "cell_type": "code",
   "execution_count": 17,
   "metadata": {},
   "outputs": [],
   "source": [
    "train_ds = raw_train_ds.map(vectorize_text)\n",
    "val_ds = raw_val_ds.map(vectorize_text)\n",
    "test_ds = raw_test_ds.map(vectorize_text)"
   ]
  },
  {
   "cell_type": "code",
   "execution_count": 18,
   "metadata": {},
   "outputs": [],
   "source": [
    "# Configure the dataset for performance\n",
    "# make sure that I/O does not become blocking\n",
    "\n",
    "# .cache() keeps data in memory after it's loaded off disk.\n",
    "# .prefetch()  overlaps data preprocessing and model execution while training.\n",
    "\n",
    "AUTOTUNE = tf.data.experimental.AUTOTUNE\n",
    "train_ds = train_ds.cache().prefetch(buffer_size=AUTOTUNE)\n",
    "val_ds = val_ds.cache().prefetch(buffer_size=AUTOTUNE)\n",
    "test_ds = test_ds.cache().prefetch(buffer_size=AUTOTUNE)"
   ]
  },
  {
   "cell_type": "code",
   "execution_count": 19,
   "metadata": {},
   "outputs": [
    {
     "name": "stdout",
     "output_type": "stream",
     "text": [
      "Model: \"sequential\"\n",
      "_________________________________________________________________\n",
      "Layer (type)                 Output Shape              Param #   \n",
      "=================================================================\n",
      "embedding (Embedding)        (None, None, 16)          160016    \n",
      "_________________________________________________________________\n",
      "dropout (Dropout)            (None, None, 16)          0         \n",
      "_________________________________________________________________\n",
      "global_average_pooling1d (Gl (None, 16)                0         \n",
      "_________________________________________________________________\n",
      "dropout_1 (Dropout)          (None, 16)                0         \n",
      "_________________________________________________________________\n",
      "dense (Dense)                (None, 1)                 17        \n",
      "=================================================================\n",
      "Total params: 160,033\n",
      "Trainable params: 160,033\n",
      "Non-trainable params: 0\n",
      "_________________________________________________________________\n"
     ]
    }
   ],
   "source": [
    "# model\n",
    "embedding_dim = 16\n",
    "\n",
    "model = tf.keras.models.Sequential([\n",
    "    tf.keras.layers.Embedding(max_features+1, embedding_dim),\n",
    "    tf.keras.layers.Dropout(0.2),\n",
    "    tf.keras.layers.GlobalAveragePooling1D(),\n",
    "    tf.keras.layers.Dropout(0.2),\n",
    "    tf.keras.layers.Dense(1)\n",
    "    ])\n",
    "model.summary()"
   ]
  },
  {
   "cell_type": "code",
   "execution_count": 20,
   "metadata": {},
   "outputs": [],
   "source": [
    "model.compile(optimizer=tf.keras.optimizers.Adam(),\n",
    "             loss=tf.keras.losses.BinaryCrossentropy(from_logits=True),\n",
    "             metrics=tf.keras.metrics.BinaryAccuracy(threshold=0.0))"
   ]
  },
  {
   "cell_type": "code",
   "execution_count": 21,
   "metadata": {},
   "outputs": [
    {
     "name": "stdout",
     "output_type": "stream",
     "text": [
      "Epoch 1/15\n",
      "625/625 [==============================] - 20s 32ms/step - loss: 0.6640 - binary_accuracy: 0.6933 - val_loss: 0.6138 - val_binary_accuracy: 0.7732\n",
      "Epoch 2/15\n",
      "625/625 [==============================] - 2s 3ms/step - loss: 0.5509 - binary_accuracy: 0.8006 - val_loss: 0.4970 - val_binary_accuracy: 0.8268\n",
      "Epoch 3/15\n",
      "625/625 [==============================] - 2s 3ms/step - loss: 0.4462 - binary_accuracy: 0.8461 - val_loss: 0.4201 - val_binary_accuracy: 0.8510\n",
      "Epoch 4/15\n",
      "625/625 [==============================] - 2s 3ms/step - loss: 0.3791 - binary_accuracy: 0.8651 - val_loss: 0.3753 - val_binary_accuracy: 0.8630\n",
      "Epoch 5/15\n",
      "625/625 [==============================] - 2s 3ms/step - loss: 0.3365 - binary_accuracy: 0.8785 - val_loss: 0.3478 - val_binary_accuracy: 0.8676\n",
      "Epoch 6/15\n",
      "625/625 [==============================] - 2s 3ms/step - loss: 0.3048 - binary_accuracy: 0.8867 - val_loss: 0.3296 - val_binary_accuracy: 0.8716\n",
      "Epoch 7/15\n",
      "625/625 [==============================] - 2s 3ms/step - loss: 0.2807 - binary_accuracy: 0.8957 - val_loss: 0.3170 - val_binary_accuracy: 0.8754\n",
      "Epoch 8/15\n",
      "625/625 [==============================] - 2s 3ms/step - loss: 0.2611 - binary_accuracy: 0.9051 - val_loss: 0.3082 - val_binary_accuracy: 0.8780\n",
      "Epoch 9/15\n",
      "625/625 [==============================] - 2s 3ms/step - loss: 0.2455 - binary_accuracy: 0.9103 - val_loss: 0.3021 - val_binary_accuracy: 0.8808\n",
      "Epoch 10/15\n",
      "625/625 [==============================] - 2s 3ms/step - loss: 0.2311 - binary_accuracy: 0.9158 - val_loss: 0.2978 - val_binary_accuracy: 0.8832\n",
      "Epoch 11/15\n",
      "625/625 [==============================] - 2s 3ms/step - loss: 0.2186 - binary_accuracy: 0.9208 - val_loss: 0.2950 - val_binary_accuracy: 0.8842\n",
      "Epoch 12/15\n",
      "625/625 [==============================] - 2s 3ms/step - loss: 0.2057 - binary_accuracy: 0.9244 - val_loss: 0.2937 - val_binary_accuracy: 0.8842\n",
      "Epoch 13/15\n",
      "625/625 [==============================] - 2s 3ms/step - loss: 0.1963 - binary_accuracy: 0.9288 - val_loss: 0.2929 - val_binary_accuracy: 0.8852\n",
      "Epoch 14/15\n",
      "625/625 [==============================] - 2s 3ms/step - loss: 0.1879 - binary_accuracy: 0.9324 - val_loss: 0.2930 - val_binary_accuracy: 0.8844\n",
      "Epoch 15/15\n",
      "625/625 [==============================] - 2s 3ms/step - loss: 0.1788 - binary_accuracy: 0.9365 - val_loss: 0.2939 - val_binary_accuracy: 0.8836\n"
     ]
    }
   ],
   "source": [
    "epochs = 15\n",
    "history = model.fit(train_ds, \n",
    "                    validation_data=val_ds, \n",
    "                    epochs=epochs)"
   ]
  },
  {
   "cell_type": "code",
   "execution_count": 22,
   "metadata": {},
   "outputs": [
    {
     "name": "stdout",
     "output_type": "stream",
     "text": [
      "782/782 [==============================] - 66s 85ms/step - loss: 0.3118 - binary_accuracy: 0.8725\n"
     ]
    },
    {
     "data": {
      "text/plain": [
       "(0.31175318360328674, 0.8724799752235413)"
      ]
     },
     "execution_count": 22,
     "metadata": {},
     "output_type": "execute_result"
    }
   ],
   "source": [
    "# evaluate\n",
    "loss, accuracy = model.evaluate(test_ds)\n",
    "loss, accuracy"
   ]
  },
  {
   "cell_type": "code",
   "execution_count": 23,
   "metadata": {},
   "outputs": [
    {
     "data": {
      "text/plain": [
       "dict_keys(['loss', 'binary_accuracy', 'val_loss', 'val_binary_accuracy'])"
      ]
     },
     "execution_count": 23,
     "metadata": {},
     "output_type": "execute_result"
    }
   ],
   "source": [
    "# Create a plot of accuracy and loss over time\n",
    "\n",
    "history_dict = history.history\n",
    "history_dict.keys()"
   ]
  },
  {
   "cell_type": "code",
   "execution_count": 24,
   "metadata": {},
   "outputs": [
    {
     "data": {
      "image/png": "[encoded data removed]",
      "text/plain": [
       "<Figure size 432x288 with 1 Axes>"
      ]
     },
     "metadata": {
      "needs_background": "light"
     },
     "output_type": "display_data"
    }
   ],
   "source": [
    "acc = history_dict['binary_accuracy']\n",
    "val_acc = history_dict['val_binary_accuracy']\n",
    "loss = history_dict['loss']\n",
    "val_loss = history_dict['val_loss']\n",
    "\n",
    "epochs = range(1, len(acc) + 1)\n",
    "\n",
    "# \"bo\" is for \"blue dot\"\n",
    "plt.plot(epochs, loss, 'bo', label='Training loss')\n",
    "# b is for \"solid blue line\"\n",
    "plt.plot(epochs, val_loss, 'b', label='Validation loss')\n",
    "plt.title('Training and validation loss')\n",
    "plt.xlabel('Epochs')\n",
    "plt.ylabel('Loss')\n",
    "plt.legend()\n",
    "\n",
    "plt.show()"
   ]
  },
  {
   "cell_type": "code",
   "execution_count": 25,
   "metadata": {},
   "outputs": [
    {
     "data": {
      "image/png": "[encoded data removed]",
      "text/plain": [
       "<Figure size 432x288 with 1 Axes>"
      ]
     },
     "metadata": {
      "needs_background": "light"
     },
     "output_type": "display_data"
    }
   ],
   "source": [
    "plt.plot(epochs, acc, 'bo', label='Training acc')\n",
    "plt.plot(epochs, val_acc, 'b', label='Validation acc')\n",
    "plt.title('Training and validation accuracy')\n",
    "plt.xlabel('Epochs')\n",
    "plt.ylabel('Accuracy')\n",
    "plt.legend(loc='lower right')\n",
    "\n",
    "plt.show()"
   ]
  },
  {
   "cell_type": "code",
   "execution_count": null,
   "metadata": {},
   "outputs": [],
   "source": []
  }
 ],
 "metadata": {
  "kernelspec": {
   "display_name": "Python 3",
   "language": "python",
   "name": "python3"
  },
  "language_info": {
   "codemirror_mode": {
    "name": "ipython",
    "version": 3
   },
   "file_extension": ".py",
   "mimetype": "text/x-python",
   "name": "python",
   "nbconvert_exporter": "python",
   "pygments_lexer": "ipython3",
   "version": "3.8.3"
  }
 },
 "nbformat": 4,
 "nbformat_minor": 4
}
